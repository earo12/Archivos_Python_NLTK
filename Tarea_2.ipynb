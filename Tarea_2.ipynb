{
  "cells": [
    {
      "cell_type": "markdown",
      "metadata": {
        "id": "view-in-github",
        "colab_type": "text"
      },
      "source": [
        "<a href=\"https://colab.research.google.com/github/earo12/Archivos_Python_NLTK/blob/master/Tarea_2.ipynb\" target=\"_parent\"><img src=\"https://colab.research.google.com/assets/colab-badge.svg\" alt=\"Open In Colab\"/></a>"
      ]
    },
    {
      "cell_type": "markdown",
      "source": [
        "## Alumno: Eduardo Adriel Romero Obispo"
      ],
      "metadata": {
        "id": "btcmSuS-epsH"
      },
      "id": "btcmSuS-epsH"
    },
    {
      "cell_type": "markdown",
      "metadata": {
        "id": "72a4f241"
      },
      "source": [
        "# Tarea 2. Seminario de Matemáticas Aplicadas I"
      ],
      "id": "72a4f241"
    },
    {
      "cell_type": "markdown",
      "metadata": {
        "id": "c4f789e5"
      },
      "source": [
        "### Ejercicio 1\n",
        "Importa la librería de numpy, utiliza el método linspace para crear un arreglo numérico \"a\" de la forma: [0,1,2,...,100], luego crea un arreglo \"b\" de la forma [100,99,98,...,0]. Suma ambos arreglos en una nueva variable \"c\" y divide \"c\" entre 100. Muestra el arreglo resultante y el resultado del método c.sum()."
      ],
      "id": "c4f789e5"
    },
    {
      "cell_type": "code",
      "execution_count": null,
      "metadata": {
        "id": "0c5a0beb"
      },
      "outputs": [],
      "source": [
        "import numpy as np # importamos numpy as np como usualmente"
      ],
      "id": "0c5a0beb"
    },
    {
      "cell_type": "code",
      "execution_count": null,
      "metadata": {
        "colab": {
          "base_uri": "https://localhost:8080/"
        },
        "id": "hA6NhjHoVfHU",
        "outputId": "62bf25bf-920c-43c8-a6e4-56c8653d5b1b"
      },
      "outputs": [
        {
          "output_type": "stream",
          "name": "stdout",
          "text": [
            "Valor final = 101.0\n"
          ]
        }
      ],
      "source": [
        "a = np.array(range(0,101)) # definimos dos arreglos a y b, a sale con un range de 0 a 101, b sale con un arreglo de 100 a -1 en saltos de -1\n",
        "b = np.array(range(100,-1,-1)) \n",
        "c = (a + b)/100 # definimos a c como (a+b)/100 y aplicamos el metodo .sum con un fstring a c para colocarlo como respuesta de este problema\n",
        "print(f'Valor final = {c.sum()}')"
      ],
      "id": "hA6NhjHoVfHU"
    },
    {
      "cell_type": "markdown",
      "metadata": {
        "id": "80391002"
      },
      "source": [
        "### Ejercicio 2\n",
        "Crea un arreglo matricial con el código: M = np.arange(1,145).reshape(12,12) muestra el resultado y luego extrae el último renglón como una nueva variable \"m\". Calcula la suma de todos los los valores de \"M\" y \"m\" con el método .sum y por medio de un ciclo sin ayuda de métodos."
      ],
      "id": "80391002"
    },
    {
      "cell_type": "code",
      "execution_count": null,
      "metadata": {
        "colab": {
          "base_uri": "https://localhost:8080/"
        },
        "id": "wGWqvcQuVekq",
        "outputId": "b6ccd0d8-3e22-4eed-a36e-a8e9e18af068"
      },
      "outputs": [
        {
          "output_type": "stream",
          "name": "stdout",
          "text": [
            "[[  1   2   3   4   5   6   7   8   9  10  11  12]\n",
            " [ 13  14  15  16  17  18  19  20  21  22  23  24]\n",
            " [ 25  26  27  28  29  30  31  32  33  34  35  36]\n",
            " [ 37  38  39  40  41  42  43  44  45  46  47  48]\n",
            " [ 49  50  51  52  53  54  55  56  57  58  59  60]\n",
            " [ 61  62  63  64  65  66  67  68  69  70  71  72]\n",
            " [ 73  74  75  76  77  78  79  80  81  82  83  84]\n",
            " [ 85  86  87  88  89  90  91  92  93  94  95  96]\n",
            " [ 97  98  99 100 101 102 103 104 105 106 107 108]\n",
            " [109 110 111 112 113 114 115 116 117 118 119 120]\n",
            " [121 122 123 124 125 126 127 128 129 130 131 132]\n",
            " [133 134 135 136 137 138 139 140 141 142 143 144]]\n"
          ]
        }
      ],
      "source": [
        "M = np.arange(1,145).reshape(12,12)   # esto nos lo pide el problema\n",
        "print(M)"
      ],
      "id": "wGWqvcQuVekq"
    },
    {
      "cell_type": "code",
      "execution_count": null,
      "metadata": {
        "colab": {
          "base_uri": "https://localhost:8080/"
        },
        "id": "b549b583",
        "outputId": "2781fc19-aa1d-4195-a76c-328ce3c0b6b6"
      },
      "outputs": [
        {
          "output_type": "execute_result",
          "data": {
            "text/plain": [
              "array([[133, 134, 135, 136, 137, 138, 139, 140, 141, 142, 143, 144]])"
            ]
          },
          "metadata": {},
          "execution_count": 104
        }
      ],
      "source": [
        "m = M [-1:,:] # una forma sería usar el contador de 0 hasta el último número que sería 13, pero es mucho más sencillo si lo hacemos de atrás con -1 y como queremos todas las columnas se ponen dos puntos después de la coma\n",
        "m # y lo imprimimos"
      ],
      "id": "b549b583"
    },
    {
      "cell_type": "code",
      "execution_count": null,
      "metadata": {
        "colab": {
          "base_uri": "https://localhost:8080/"
        },
        "id": "unyiwv-tngCw",
        "outputId": "2de2522a-d9b1-4104-f92a-478e7687fefe"
      },
      "outputs": [
        {
          "output_type": "stream",
          "name": "stdout",
          "text": [
            "La suma de la matriz M es  10440\n",
            "La suma del último renglón m es 1662\n"
          ]
        }
      ],
      "source": [
        "print(f'La suma de la matriz M es  {M.sum()}')    #imprimimos fácilmente los resultados con .sum\n",
        "print(f'La suma del último renglón m es {m.sum()}')"
      ],
      "id": "unyiwv-tngCw"
    },
    {
      "cell_type": "code",
      "execution_count": null,
      "metadata": {
        "colab": {
          "base_uri": "https://localhost:8080/"
        },
        "id": "D35ttC8Lniub",
        "outputId": "8203aef6-6be4-4491-dfae-52f4e521f9a3"
      },
      "outputs": [
        {
          "output_type": "stream",
          "name": "stdout",
          "text": [
            "Para la matriz M la suma es 10440\n",
            "Para la matriz m la suma es 1662\n"
          ]
        }
      ],
      "source": [
        "\n",
        "suma = 0      #necesitamos un doble contador que vaya con cada elemento de la matriz y que al final sume cada componente\n",
        "elementos = 0\n",
        "for fila in M:        # con cosas que interviene en matrices usamos un doble for \n",
        "  for elemento in fila:\n",
        "    suma = suma + elemento  # al final sumamos el elemento a la suma, como la suma empieza en cero, el primer elemento no se sumará a nada, pero el segundo se sumará al primero y así sucesivamente\n",
        "    elementos = elementos + 1 # igual incrementamos el valor de los elementos\n",
        " \n",
        "print(f'Para la matriz M la suma es {suma}')\n",
        "\n",
        "\n",
        "suma2 = 0\n",
        "elementos2 = 0\n",
        "for variable in m:\n",
        "  for elemento2 in variable:\n",
        "    suma2 = suma2 + elemento2\n",
        "    elementos2 = elementos2 + 1\n",
        "\n",
        "print(f'Para la matriz m la suma es {suma2}') # y vemos que son de hecho las mismas valores que encontramos una celda arriba"
      ],
      "id": "D35ttC8Lniub"
    },
    {
      "cell_type": "markdown",
      "metadata": {
        "id": "b7cabd09"
      },
      "source": [
        "### Ejercicio 3\n",
        "Importa la librería de pandas como pd y utiliza el comando pd.read_csv('calis') para importar un dataframe con las calificaciones bimestrales de un alumno por materia desde el archivo csv que se adjuntó en la tarea (considera que el archivo debe estar en la misma carpeta de enrutamiento que tu trabajo). Reetiqueta los ínidices de fila con los índices [bim_1,bim_2,bim_3,bim_4], añade una columna con el encabezado prom_bim sonde se calcule el promedio bimestral por materia. Muestra el dataframe resultante y calcula el promedio anual del alumno para la materia de Inglés."
      ],
      "id": "b7cabd09"
    },
    {
      "cell_type": "code",
      "execution_count": null,
      "metadata": {
        "id": "KE78We3mnkPC",
        "colab": {
          "base_uri": "https://localhost:8080/",
          "height": 74
        },
        "outputId": "80628853-eed8-4650-eafd-51e016d9cd22"
      },
      "outputs": [
        {
          "output_type": "display_data",
          "data": {
            "text/plain": [
              "<IPython.core.display.HTML object>"
            ],
            "text/html": [
              "\n",
              "     <input type=\"file\" id=\"files-f446c63a-747d-4d7e-9bd6-f580a750aca9\" name=\"files[]\" multiple disabled\n",
              "        style=\"border:none\" />\n",
              "     <output id=\"result-f446c63a-747d-4d7e-9bd6-f580a750aca9\">\n",
              "      Upload widget is only available when the cell has been executed in the\n",
              "      current browser session. Please rerun this cell to enable.\n",
              "      </output>\n",
              "      <script>// Copyright 2017 Google LLC\n",
              "//\n",
              "// Licensed under the Apache License, Version 2.0 (the \"License\");\n",
              "// you may not use this file except in compliance with the License.\n",
              "// You may obtain a copy of the License at\n",
              "//\n",
              "//      http://www.apache.org/licenses/LICENSE-2.0\n",
              "//\n",
              "// Unless required by applicable law or agreed to in writing, software\n",
              "// distributed under the License is distributed on an \"AS IS\" BASIS,\n",
              "// WITHOUT WARRANTIES OR CONDITIONS OF ANY KIND, either express or implied.\n",
              "// See the License for the specific language governing permissions and\n",
              "// limitations under the License.\n",
              "\n",
              "/**\n",
              " * @fileoverview Helpers for google.colab Python module.\n",
              " */\n",
              "(function(scope) {\n",
              "function span(text, styleAttributes = {}) {\n",
              "  const element = document.createElement('span');\n",
              "  element.textContent = text;\n",
              "  for (const key of Object.keys(styleAttributes)) {\n",
              "    element.style[key] = styleAttributes[key];\n",
              "  }\n",
              "  return element;\n",
              "}\n",
              "\n",
              "// Max number of bytes which will be uploaded at a time.\n",
              "const MAX_PAYLOAD_SIZE = 100 * 1024;\n",
              "\n",
              "function _uploadFiles(inputId, outputId) {\n",
              "  const steps = uploadFilesStep(inputId, outputId);\n",
              "  const outputElement = document.getElementById(outputId);\n",
              "  // Cache steps on the outputElement to make it available for the next call\n",
              "  // to uploadFilesContinue from Python.\n",
              "  outputElement.steps = steps;\n",
              "\n",
              "  return _uploadFilesContinue(outputId);\n",
              "}\n",
              "\n",
              "// This is roughly an async generator (not supported in the browser yet),\n",
              "// where there are multiple asynchronous steps and the Python side is going\n",
              "// to poll for completion of each step.\n",
              "// This uses a Promise to block the python side on completion of each step,\n",
              "// then passes the result of the previous step as the input to the next step.\n",
              "function _uploadFilesContinue(outputId) {\n",
              "  const outputElement = document.getElementById(outputId);\n",
              "  const steps = outputElement.steps;\n",
              "\n",
              "  const next = steps.next(outputElement.lastPromiseValue);\n",
              "  return Promise.resolve(next.value.promise).then((value) => {\n",
              "    // Cache the last promise value to make it available to the next\n",
              "    // step of the generator.\n",
              "    outputElement.lastPromiseValue = value;\n",
              "    return next.value.response;\n",
              "  });\n",
              "}\n",
              "\n",
              "/**\n",
              " * Generator function which is called between each async step of the upload\n",
              " * process.\n",
              " * @param {string} inputId Element ID of the input file picker element.\n",
              " * @param {string} outputId Element ID of the output display.\n",
              " * @return {!Iterable<!Object>} Iterable of next steps.\n",
              " */\n",
              "function* uploadFilesStep(inputId, outputId) {\n",
              "  const inputElement = document.getElementById(inputId);\n",
              "  inputElement.disabled = false;\n",
              "\n",
              "  const outputElement = document.getElementById(outputId);\n",
              "  outputElement.innerHTML = '';\n",
              "\n",
              "  const pickedPromise = new Promise((resolve) => {\n",
              "    inputElement.addEventListener('change', (e) => {\n",
              "      resolve(e.target.files);\n",
              "    });\n",
              "  });\n",
              "\n",
              "  const cancel = document.createElement('button');\n",
              "  inputElement.parentElement.appendChild(cancel);\n",
              "  cancel.textContent = 'Cancel upload';\n",
              "  const cancelPromise = new Promise((resolve) => {\n",
              "    cancel.onclick = () => {\n",
              "      resolve(null);\n",
              "    };\n",
              "  });\n",
              "\n",
              "  // Wait for the user to pick the files.\n",
              "  const files = yield {\n",
              "    promise: Promise.race([pickedPromise, cancelPromise]),\n",
              "    response: {\n",
              "      action: 'starting',\n",
              "    }\n",
              "  };\n",
              "\n",
              "  cancel.remove();\n",
              "\n",
              "  // Disable the input element since further picks are not allowed.\n",
              "  inputElement.disabled = true;\n",
              "\n",
              "  if (!files) {\n",
              "    return {\n",
              "      response: {\n",
              "        action: 'complete',\n",
              "      }\n",
              "    };\n",
              "  }\n",
              "\n",
              "  for (const file of files) {\n",
              "    const li = document.createElement('li');\n",
              "    li.append(span(file.name, {fontWeight: 'bold'}));\n",
              "    li.append(span(\n",
              "        `(${file.type || 'n/a'}) - ${file.size} bytes, ` +\n",
              "        `last modified: ${\n",
              "            file.lastModifiedDate ? file.lastModifiedDate.toLocaleDateString() :\n",
              "                                    'n/a'} - `));\n",
              "    const percent = span('0% done');\n",
              "    li.appendChild(percent);\n",
              "\n",
              "    outputElement.appendChild(li);\n",
              "\n",
              "    const fileDataPromise = new Promise((resolve) => {\n",
              "      const reader = new FileReader();\n",
              "      reader.onload = (e) => {\n",
              "        resolve(e.target.result);\n",
              "      };\n",
              "      reader.readAsArrayBuffer(file);\n",
              "    });\n",
              "    // Wait for the data to be ready.\n",
              "    let fileData = yield {\n",
              "      promise: fileDataPromise,\n",
              "      response: {\n",
              "        action: 'continue',\n",
              "      }\n",
              "    };\n",
              "\n",
              "    // Use a chunked sending to avoid message size limits. See b/62115660.\n",
              "    let position = 0;\n",
              "    do {\n",
              "      const length = Math.min(fileData.byteLength - position, MAX_PAYLOAD_SIZE);\n",
              "      const chunk = new Uint8Array(fileData, position, length);\n",
              "      position += length;\n",
              "\n",
              "      const base64 = btoa(String.fromCharCode.apply(null, chunk));\n",
              "      yield {\n",
              "        response: {\n",
              "          action: 'append',\n",
              "          file: file.name,\n",
              "          data: base64,\n",
              "        },\n",
              "      };\n",
              "\n",
              "      let percentDone = fileData.byteLength === 0 ?\n",
              "          100 :\n",
              "          Math.round((position / fileData.byteLength) * 100);\n",
              "      percent.textContent = `${percentDone}% done`;\n",
              "\n",
              "    } while (position < fileData.byteLength);\n",
              "  }\n",
              "\n",
              "  // All done.\n",
              "  yield {\n",
              "    response: {\n",
              "      action: 'complete',\n",
              "    }\n",
              "  };\n",
              "}\n",
              "\n",
              "scope.google = scope.google || {};\n",
              "scope.google.colab = scope.google.colab || {};\n",
              "scope.google.colab._files = {\n",
              "  _uploadFiles,\n",
              "  _uploadFilesContinue,\n",
              "};\n",
              "})(self);\n",
              "</script> "
            ]
          },
          "metadata": {}
        },
        {
          "output_type": "stream",
          "name": "stdout",
          "text": [
            "Saving calis to calis\n"
          ]
        }
      ],
      "source": [
        "import pandas as pd\n",
        "# IMPORTANTE, ESTOY TRABAJANDO EN COLAB QUIZAS LAS SIGUIENTES LINEAS RESULTEN EXTRAÑAS PERO SON PARA IMPORTAR DESDE MI COMPUTADORA A COLAB\n",
        "from google.colab import files\n",
        "uploaded = files.upload()\n",
        "import io"
      ],
      "id": "KE78We3mnkPC"
    },
    {
      "cell_type": "code",
      "execution_count": null,
      "metadata": {
        "id": "b8de9810"
      },
      "outputs": [],
      "source": [
        "df = pd.read_csv(io.BytesIO(uploaded['calis'])) # en realidad todo eso fue únicamente para definir mi data frame como df "
      ],
      "id": "b8de9810"
    },
    {
      "cell_type": "code",
      "source": [
        "df.index = ['bim_1','bim_2','bim_3','bim_4'] # simplemente usamos el método index para evitar que nos genere NaN como valores en las asignaturas\n",
        "df"
      ],
      "metadata": {
        "id": "I8ef3nh2p7nf",
        "colab": {
          "base_uri": "https://localhost:8080/",
          "height": 175
        },
        "outputId": "8e629e84-7beb-4360-8ed0-afcaa7b1454f"
      },
      "id": "I8ef3nh2p7nf",
      "execution_count": null,
      "outputs": [
        {
          "output_type": "execute_result",
          "data": {
            "text/plain": [
              "       Esp  Mat  Ing  Hist  Geo  Fis  Art\n",
              "bim_1   10    7   10     6   10    8    9\n",
              "bim_2    7    6    8     6    8   10   10\n",
              "bim_3   10    8   10     9    9    8    6\n",
              "bim_4    9    6    9     6    5    6    6"
            ],
            "text/html": [
              "\n",
              "  <div id=\"df-ad5e9459-3c57-41b8-b93b-9129d9489fc9\">\n",
              "    <div class=\"colab-df-container\">\n",
              "      <div>\n",
              "<style scoped>\n",
              "    .dataframe tbody tr th:only-of-type {\n",
              "        vertical-align: middle;\n",
              "    }\n",
              "\n",
              "    .dataframe tbody tr th {\n",
              "        vertical-align: top;\n",
              "    }\n",
              "\n",
              "    .dataframe thead th {\n",
              "        text-align: right;\n",
              "    }\n",
              "</style>\n",
              "<table border=\"1\" class=\"dataframe\">\n",
              "  <thead>\n",
              "    <tr style=\"text-align: right;\">\n",
              "      <th></th>\n",
              "      <th>Esp</th>\n",
              "      <th>Mat</th>\n",
              "      <th>Ing</th>\n",
              "      <th>Hist</th>\n",
              "      <th>Geo</th>\n",
              "      <th>Fis</th>\n",
              "      <th>Art</th>\n",
              "    </tr>\n",
              "  </thead>\n",
              "  <tbody>\n",
              "    <tr>\n",
              "      <th>bim_1</th>\n",
              "      <td>10</td>\n",
              "      <td>7</td>\n",
              "      <td>10</td>\n",
              "      <td>6</td>\n",
              "      <td>10</td>\n",
              "      <td>8</td>\n",
              "      <td>9</td>\n",
              "    </tr>\n",
              "    <tr>\n",
              "      <th>bim_2</th>\n",
              "      <td>7</td>\n",
              "      <td>6</td>\n",
              "      <td>8</td>\n",
              "      <td>6</td>\n",
              "      <td>8</td>\n",
              "      <td>10</td>\n",
              "      <td>10</td>\n",
              "    </tr>\n",
              "    <tr>\n",
              "      <th>bim_3</th>\n",
              "      <td>10</td>\n",
              "      <td>8</td>\n",
              "      <td>10</td>\n",
              "      <td>9</td>\n",
              "      <td>9</td>\n",
              "      <td>8</td>\n",
              "      <td>6</td>\n",
              "    </tr>\n",
              "    <tr>\n",
              "      <th>bim_4</th>\n",
              "      <td>9</td>\n",
              "      <td>6</td>\n",
              "      <td>9</td>\n",
              "      <td>6</td>\n",
              "      <td>5</td>\n",
              "      <td>6</td>\n",
              "      <td>6</td>\n",
              "    </tr>\n",
              "  </tbody>\n",
              "</table>\n",
              "</div>\n",
              "      <button class=\"colab-df-convert\" onclick=\"convertToInteractive('df-ad5e9459-3c57-41b8-b93b-9129d9489fc9')\"\n",
              "              title=\"Convert this dataframe to an interactive table.\"\n",
              "              style=\"display:none;\">\n",
              "        \n",
              "  <svg xmlns=\"http://www.w3.org/2000/svg\" height=\"24px\"viewBox=\"0 0 24 24\"\n",
              "       width=\"24px\">\n",
              "    <path d=\"M0 0h24v24H0V0z\" fill=\"none\"/>\n",
              "    <path d=\"M18.56 5.44l.94 2.06.94-2.06 2.06-.94-2.06-.94-.94-2.06-.94 2.06-2.06.94zm-11 1L8.5 8.5l.94-2.06 2.06-.94-2.06-.94L8.5 2.5l-.94 2.06-2.06.94zm10 10l.94 2.06.94-2.06 2.06-.94-2.06-.94-.94-2.06-.94 2.06-2.06.94z\"/><path d=\"M17.41 7.96l-1.37-1.37c-.4-.4-.92-.59-1.43-.59-.52 0-1.04.2-1.43.59L10.3 9.45l-7.72 7.72c-.78.78-.78 2.05 0 2.83L4 21.41c.39.39.9.59 1.41.59.51 0 1.02-.2 1.41-.59l7.78-7.78 2.81-2.81c.8-.78.8-2.07 0-2.86zM5.41 20L4 18.59l7.72-7.72 1.47 1.35L5.41 20z\"/>\n",
              "  </svg>\n",
              "      </button>\n",
              "      \n",
              "  <style>\n",
              "    .colab-df-container {\n",
              "      display:flex;\n",
              "      flex-wrap:wrap;\n",
              "      gap: 12px;\n",
              "    }\n",
              "\n",
              "    .colab-df-convert {\n",
              "      background-color: #E8F0FE;\n",
              "      border: none;\n",
              "      border-radius: 50%;\n",
              "      cursor: pointer;\n",
              "      display: none;\n",
              "      fill: #1967D2;\n",
              "      height: 32px;\n",
              "      padding: 0 0 0 0;\n",
              "      width: 32px;\n",
              "    }\n",
              "\n",
              "    .colab-df-convert:hover {\n",
              "      background-color: #E2EBFA;\n",
              "      box-shadow: 0px 1px 2px rgba(60, 64, 67, 0.3), 0px 1px 3px 1px rgba(60, 64, 67, 0.15);\n",
              "      fill: #174EA6;\n",
              "    }\n",
              "\n",
              "    [theme=dark] .colab-df-convert {\n",
              "      background-color: #3B4455;\n",
              "      fill: #D2E3FC;\n",
              "    }\n",
              "\n",
              "    [theme=dark] .colab-df-convert:hover {\n",
              "      background-color: #434B5C;\n",
              "      box-shadow: 0px 1px 3px 1px rgba(0, 0, 0, 0.15);\n",
              "      filter: drop-shadow(0px 1px 2px rgba(0, 0, 0, 0.3));\n",
              "      fill: #FFFFFF;\n",
              "    }\n",
              "  </style>\n",
              "\n",
              "      <script>\n",
              "        const buttonEl =\n",
              "          document.querySelector('#df-ad5e9459-3c57-41b8-b93b-9129d9489fc9 button.colab-df-convert');\n",
              "        buttonEl.style.display =\n",
              "          google.colab.kernel.accessAllowed ? 'block' : 'none';\n",
              "\n",
              "        async function convertToInteractive(key) {\n",
              "          const element = document.querySelector('#df-ad5e9459-3c57-41b8-b93b-9129d9489fc9');\n",
              "          const dataTable =\n",
              "            await google.colab.kernel.invokeFunction('convertToInteractive',\n",
              "                                                     [key], {});\n",
              "          if (!dataTable) return;\n",
              "\n",
              "          const docLinkHtml = 'Like what you see? Visit the ' +\n",
              "            '<a target=\"_blank\" href=https://colab.research.google.com/notebooks/data_table.ipynb>data table notebook</a>'\n",
              "            + ' to learn more about interactive tables.';\n",
              "          element.innerHTML = '';\n",
              "          dataTable['output_type'] = 'display_data';\n",
              "          await google.colab.output.renderOutput(dataTable, element);\n",
              "          const docLink = document.createElement('div');\n",
              "          docLink.innerHTML = docLinkHtml;\n",
              "          element.appendChild(docLink);\n",
              "        }\n",
              "      </script>\n",
              "    </div>\n",
              "  </div>\n",
              "  "
            ]
          },
          "metadata": {},
          "execution_count": 112
        }
      ]
    },
    {
      "cell_type": "code",
      "source": [
        "# en este punto no entendí si promedio bimestral por materia era sacar el promedio de cada fila, para tener 4 promedios o si era sacar el promedio de cada materia, pero no tendría mucho caso, ya que la longitud de la nueva columna será mayor a la de los 4 bimestres y marcará error si hacemos esto \n",
        "#prom_esp = df['Esp'].mean()\n",
        "#prom_mat = df['Mat'].mean()\n",
        "#prom_ing = df['Ing'].mean()\n",
        "#prom_geo = df['Geo'].mean()\n",
        "#prom_fis = df['Fis'].mean()\n",
        "#prom_art = df['Art'].mean()\n",
        "#df['prom_bim'] = ['prom_esp','prom_mat','prom_ing','prom_geo','prom_fis','prom_art'] # de cualquier manera las coloco, la idea según era calcular el promedio de cada materia al final, pero como tal no es correcto\n",
        "promedios = df.mean(axis = 1) # en su caso mejor coloco el promedio de todas las materias en un bimestre, me saldrán 4 valores, cumplen el requisito de que sean de la misma longitud que el índice\n",
        "df['prom_bim'] = promedios    # creamos la columna\n",
        "df      # y mostramos el dataframe"
      ],
      "metadata": {
        "id": "KZrbobkdqF8I",
        "colab": {
          "base_uri": "https://localhost:8080/",
          "height": 175
        },
        "outputId": "8b92a6bc-416f-4265-d4f4-13d7af24894a"
      },
      "id": "KZrbobkdqF8I",
      "execution_count": null,
      "outputs": [
        {
          "output_type": "execute_result",
          "data": {
            "text/plain": [
              "       Esp  Mat  Ing  Hist  Geo  Fis  Art  prom_bim\n",
              "bim_1   10    7   10     6   10    8    9  8.571429\n",
              "bim_2    7    6    8     6    8   10   10  7.857143\n",
              "bim_3   10    8   10     9    9    8    6  8.571429\n",
              "bim_4    9    6    9     6    5    6    6  6.714286"
            ],
            "text/html": [
              "\n",
              "  <div id=\"df-13e4a667-65be-454b-83ff-8e2889e8c63c\">\n",
              "    <div class=\"colab-df-container\">\n",
              "      <div>\n",
              "<style scoped>\n",
              "    .dataframe tbody tr th:only-of-type {\n",
              "        vertical-align: middle;\n",
              "    }\n",
              "\n",
              "    .dataframe tbody tr th {\n",
              "        vertical-align: top;\n",
              "    }\n",
              "\n",
              "    .dataframe thead th {\n",
              "        text-align: right;\n",
              "    }\n",
              "</style>\n",
              "<table border=\"1\" class=\"dataframe\">\n",
              "  <thead>\n",
              "    <tr style=\"text-align: right;\">\n",
              "      <th></th>\n",
              "      <th>Esp</th>\n",
              "      <th>Mat</th>\n",
              "      <th>Ing</th>\n",
              "      <th>Hist</th>\n",
              "      <th>Geo</th>\n",
              "      <th>Fis</th>\n",
              "      <th>Art</th>\n",
              "      <th>prom_bim</th>\n",
              "    </tr>\n",
              "  </thead>\n",
              "  <tbody>\n",
              "    <tr>\n",
              "      <th>bim_1</th>\n",
              "      <td>10</td>\n",
              "      <td>7</td>\n",
              "      <td>10</td>\n",
              "      <td>6</td>\n",
              "      <td>10</td>\n",
              "      <td>8</td>\n",
              "      <td>9</td>\n",
              "      <td>8.571429</td>\n",
              "    </tr>\n",
              "    <tr>\n",
              "      <th>bim_2</th>\n",
              "      <td>7</td>\n",
              "      <td>6</td>\n",
              "      <td>8</td>\n",
              "      <td>6</td>\n",
              "      <td>8</td>\n",
              "      <td>10</td>\n",
              "      <td>10</td>\n",
              "      <td>7.857143</td>\n",
              "    </tr>\n",
              "    <tr>\n",
              "      <th>bim_3</th>\n",
              "      <td>10</td>\n",
              "      <td>8</td>\n",
              "      <td>10</td>\n",
              "      <td>9</td>\n",
              "      <td>9</td>\n",
              "      <td>8</td>\n",
              "      <td>6</td>\n",
              "      <td>8.571429</td>\n",
              "    </tr>\n",
              "    <tr>\n",
              "      <th>bim_4</th>\n",
              "      <td>9</td>\n",
              "      <td>6</td>\n",
              "      <td>9</td>\n",
              "      <td>6</td>\n",
              "      <td>5</td>\n",
              "      <td>6</td>\n",
              "      <td>6</td>\n",
              "      <td>6.714286</td>\n",
              "    </tr>\n",
              "  </tbody>\n",
              "</table>\n",
              "</div>\n",
              "      <button class=\"colab-df-convert\" onclick=\"convertToInteractive('df-13e4a667-65be-454b-83ff-8e2889e8c63c')\"\n",
              "              title=\"Convert this dataframe to an interactive table.\"\n",
              "              style=\"display:none;\">\n",
              "        \n",
              "  <svg xmlns=\"http://www.w3.org/2000/svg\" height=\"24px\"viewBox=\"0 0 24 24\"\n",
              "       width=\"24px\">\n",
              "    <path d=\"M0 0h24v24H0V0z\" fill=\"none\"/>\n",
              "    <path d=\"M18.56 5.44l.94 2.06.94-2.06 2.06-.94-2.06-.94-.94-2.06-.94 2.06-2.06.94zm-11 1L8.5 8.5l.94-2.06 2.06-.94-2.06-.94L8.5 2.5l-.94 2.06-2.06.94zm10 10l.94 2.06.94-2.06 2.06-.94-2.06-.94-.94-2.06-.94 2.06-2.06.94z\"/><path d=\"M17.41 7.96l-1.37-1.37c-.4-.4-.92-.59-1.43-.59-.52 0-1.04.2-1.43.59L10.3 9.45l-7.72 7.72c-.78.78-.78 2.05 0 2.83L4 21.41c.39.39.9.59 1.41.59.51 0 1.02-.2 1.41-.59l7.78-7.78 2.81-2.81c.8-.78.8-2.07 0-2.86zM5.41 20L4 18.59l7.72-7.72 1.47 1.35L5.41 20z\"/>\n",
              "  </svg>\n",
              "      </button>\n",
              "      \n",
              "  <style>\n",
              "    .colab-df-container {\n",
              "      display:flex;\n",
              "      flex-wrap:wrap;\n",
              "      gap: 12px;\n",
              "    }\n",
              "\n",
              "    .colab-df-convert {\n",
              "      background-color: #E8F0FE;\n",
              "      border: none;\n",
              "      border-radius: 50%;\n",
              "      cursor: pointer;\n",
              "      display: none;\n",
              "      fill: #1967D2;\n",
              "      height: 32px;\n",
              "      padding: 0 0 0 0;\n",
              "      width: 32px;\n",
              "    }\n",
              "\n",
              "    .colab-df-convert:hover {\n",
              "      background-color: #E2EBFA;\n",
              "      box-shadow: 0px 1px 2px rgba(60, 64, 67, 0.3), 0px 1px 3px 1px rgba(60, 64, 67, 0.15);\n",
              "      fill: #174EA6;\n",
              "    }\n",
              "\n",
              "    [theme=dark] .colab-df-convert {\n",
              "      background-color: #3B4455;\n",
              "      fill: #D2E3FC;\n",
              "    }\n",
              "\n",
              "    [theme=dark] .colab-df-convert:hover {\n",
              "      background-color: #434B5C;\n",
              "      box-shadow: 0px 1px 3px 1px rgba(0, 0, 0, 0.15);\n",
              "      filter: drop-shadow(0px 1px 2px rgba(0, 0, 0, 0.3));\n",
              "      fill: #FFFFFF;\n",
              "    }\n",
              "  </style>\n",
              "\n",
              "      <script>\n",
              "        const buttonEl =\n",
              "          document.querySelector('#df-13e4a667-65be-454b-83ff-8e2889e8c63c button.colab-df-convert');\n",
              "        buttonEl.style.display =\n",
              "          google.colab.kernel.accessAllowed ? 'block' : 'none';\n",
              "\n",
              "        async function convertToInteractive(key) {\n",
              "          const element = document.querySelector('#df-13e4a667-65be-454b-83ff-8e2889e8c63c');\n",
              "          const dataTable =\n",
              "            await google.colab.kernel.invokeFunction('convertToInteractive',\n",
              "                                                     [key], {});\n",
              "          if (!dataTable) return;\n",
              "\n",
              "          const docLinkHtml = 'Like what you see? Visit the ' +\n",
              "            '<a target=\"_blank\" href=https://colab.research.google.com/notebooks/data_table.ipynb>data table notebook</a>'\n",
              "            + ' to learn more about interactive tables.';\n",
              "          element.innerHTML = '';\n",
              "          dataTable['output_type'] = 'display_data';\n",
              "          await google.colab.output.renderOutput(dataTable, element);\n",
              "          const docLink = document.createElement('div');\n",
              "          docLink.innerHTML = docLinkHtml;\n",
              "          element.appendChild(docLink);\n",
              "        }\n",
              "      </script>\n",
              "    </div>\n",
              "  </div>\n",
              "  "
            ]
          },
          "metadata": {},
          "execution_count": 113
        }
      ]
    },
    {
      "cell_type": "code",
      "source": [
        "# por otra parte, en inglés se sigue que en los bimestres se tiene la siguiente lista\n",
        "calificaciones_ingles = [10,8,10,9] \n",
        "promedio_ingles = sum(calificaciones_ingles)/len(calificaciones_ingles) # lo que hago es almacenar las calificaciones en una lista, y simplemente sacar el promedio con la suma entre el número de elementos\n",
        "print(f'El promedio anual del alumno en inglés será: {promedio_ingles}') #con promedio de 9.25"
      ],
      "metadata": {
        "id": "A5Z6HdUu1KIR",
        "colab": {
          "base_uri": "https://localhost:8080/"
        },
        "outputId": "70d959df-0314-47f6-e404-1ad381ff6a14"
      },
      "id": "A5Z6HdUu1KIR",
      "execution_count": null,
      "outputs": [
        {
          "output_type": "stream",
          "name": "stdout",
          "text": [
            "El promedio anual del alumno en inglés será: 9.25\n"
          ]
        }
      ]
    },
    {
      "cell_type": "markdown",
      "metadata": {
        "id": "864e7e53"
      },
      "source": [
        "### Ejercicio 4\n",
        "Compile un patrón de búsqueda que encuentre todas las palabras que sean seguidas por puntos suspensivos. Utilice el método search para encontrar cada una de las posibles coincidencias: `dwell`, `flesh` y `once`. Esto implica que tendrá que correr el método `search` en tres ocasiones, \n",
        "modificando cada vez los parámetros de índices inicial y final.\n",
        "Aclaración: los puntos suspensivos no deben ser parte de la coincidencia; en otras palabras, haga uso de un *lookahead*."
      ],
      "id": "864e7e53"
    },
    {
      "cell_type": "code",
      "execution_count": null,
      "metadata": {
        "id": "c399ac13"
      },
      "outputs": [],
      "source": [
        "quote = \"\"\"\n",
        "To think that once I culd not see beyond the veil of our reality.\n",
        "To see those who dwell... behind.\n",
        "My life now has purpose, for I have learned the frailty of flesh..., and bone.\n",
        "I was once... a fool.\n",
        "\"\"\""
      ],
      "id": "c399ac13"
    },
    {
      "cell_type": "code",
      "execution_count": null,
      "metadata": {
        "id": "4e414616",
        "colab": {
          "base_uri": "https://localhost:8080/"
        },
        "outputId": "8b732cbf-69d3-4b05-e713-6d406a9546df"
      },
      "outputs": [
        {
          "output_type": "stream",
          "name": "stdout",
          "text": [
            "None\n",
            "<re.Match object; span=(84, 89), match='dwell'>\n",
            "<re.Match object; span=(160, 165), match='flesh'>\n",
            "<re.Match object; span=(186, 190), match='once'>\n"
          ]
        }
      ],
      "source": [
        "import re\n",
        "pattern = re.compile(r'\\w+(?=[{.3}])') # esta es la expresión regular, buscamos un grupo que nos tome los 3 puntitos, luego lo ponemos en una clase y finalmente usamos el método de lookahead para que no nos los tome en cuenta PERO sí sean parte de nuestra consulta, finalmente tomamos todos los elementos disponibles\n",
        "match0 = pattern.search(quote, 0, 36)   \n",
        "print(match0) #estas 2 variables son para la parte del primer renglón\n",
        "\n",
        "match1 = pattern.search(quote, 69, 102)\n",
        "print(match1) # para el segundo renglón\n",
        "\n",
        "match2 = pattern.search(quote, 103,181)\n",
        "print(match2) # para el tercer renglón\n",
        "\n",
        "match3 = pattern.search(quote,182,203)\n",
        "print(match3) # para el último renglón\n",
        "\n",
        "\n"
      ],
      "id": "4e414616"
    },
    {
      "cell_type": "markdown",
      "metadata": {
        "id": "482dd949"
      },
      "source": [
        "### Ejercicio 5\n",
        "\n",
        "Sea `output` la salida del comando `ls -l`. Comiple un patŕon de búsqueda que encuentre una coincidencia por archivo `.py`; la coincidencia debe incluir el peso del archivo, la fecha y hora de última modificación, y el nombre del archivo. Para esto, utilice el método `findall` e imprima la lista que éste devuelve.\n",
        "Nótese que el peso del archivo es la columna que sigue al segundo `root`."
      ],
      "id": "482dd949"
    },
    {
      "cell_type": "code",
      "execution_count": null,
      "metadata": {
        "id": "81ee0e99"
      },
      "outputs": [],
      "source": [
        "output = \"\"\"\n",
        "total 18676\n",
        "-rw-rw-r-- 1 root root     507 sep  9 12:43 args\n",
        "-rw-rw-r-- 1 root root 9383156 jun 30 12:03 docs\n",
        "-rw-rw-r-- 1 root root     901 ago 12 19:27 cleanse.py\n",
        "-rw-rw-r-- 1 root root    3222 sep  9 12:32 correct__counts.py\n",
        "-rw-rw-r-- 1 root root    1935 ago 17 18:27 correct_tracking.py\n",
        "-rw-rw-r-- 1 root root    2017 sep  1 22:52 correct_track.py\n",
        "-rw-rw-r-- 1 root root    1172 jul  8 11:24 get_pass.py\n",
        "-rw-rw-r-- 1 root root     382 may 10 13:06 get_errors.py\n",
        "-rw-rw-r-- 1 root root   24150 may 10 19:23 get_status.py\n",
        "-rw-rw-r-- 1 root root    1632 jul 29 11:58 get_unprocessed.py\n",
        "-rw-rw-r-- 1 root root     601 jun 10 00:33 get_nums.py\n",
        "-rw-rw-r-- 1 root root     659 ago 17 21:00 insert_docs.py\n",
        "-rw-rw-r-- 1 root root    1277 jun  7 20:35 monthly_update_historic.py\n",
        "-rw-rw-r-- 1 root root    1493 sep 10 02:04 monthly_update.py\n",
        "-rw-rw-r-- 1 root root    2017 jun 28 19:18 out\n",
        "-rw-rw-r-- 1 root root  596625 jul 10 16:51 query2.log\n",
        "-rw-rw-r-- 1 root root   38104 may 10 20:04 query2.py\n",
        "-rw-rw-r-- 1 root root  597313 jul 11 16:38 query3.log\n",
        "-rw-rw-r-- 1 root root  597257 jul 13 18:19 query.log\n",
        "-rw-rw-r-- 1 root root     647 sep  1 22:27 query.py\n",
        "-rw-rw-r-- 1 root root     845 ago 12 19:25 restart_tracking.py\n",
        "-rw-rw-r-- 1 root root     707 sep 10 02:04 update.py\n",
        "-rw-rw-r-- 1 root root 7803707 ago 17 19:00 ids.txt\n",
        "-rw-rw-r-- 1 root root    4096 may  1 18:32 verify_tracking_migration.py\n",
        "-rw-rw-r-- 1 root root     355 sep 10 02:03 x\n",
        "\"\"\""
      ],
      "id": "81ee0e99"
    },
    {
      "cell_type": "code",
      "execution_count": null,
      "metadata": {
        "id": "e56570bd",
        "colab": {
          "base_uri": "https://localhost:8080/"
        },
        "outputId": "73a17e54-b1e7-49d5-e0b9-ae040a7b12f9"
      },
      "outputs": [
        {
          "output_type": "stream",
          "name": "stdout",
          "text": [
            "[('901', 'ago', '19:27', 'cleanse.py'), ('1935', 'ago', '18:27', 'correct_tracking.py'), ('382', 'may', '13:06', 'get_errors.py'), ('24150', 'may', '19:23', 'get_status.py'), ('1632', 'jul', '11:58', 'get_unprocessed.py'), ('601', 'jun', '00:33', 'get_nums.py'), ('659', 'ago', '21:00', 'insert_docs.py'), ('1493', 'sep', '02:04', 'monthly_update.py'), ('38104', 'may', '20:04', 'query2.py'), ('845', 'ago', '19:25', 'restart_tracking.py'), ('707', 'sep', '02:04', 'update.py')]\n"
          ]
        }
      ],
      "source": [
        "# este problema requiere de una consulta bastante larga, lo más avanzado fue esto:\n",
        "pattern = re.compile(r'(\\d+) (\\w+) (?<= )\\d+(?= ) ([\\d]+:[\\d]+) ([\\w]+.[p]y$)', re.M) # basicamente buscamos caracteres numericos de ahí el \\d+ luego son caracteres alfanumericos y numéricos separados por un espacio por ello el lookbehind y lookahead, luego volvemos a colocar dos clases con valores numéricos entre dos puntos para la hora para finalmente poner el.py como una clase con p  \n",
        "match_list = pattern.findall(output)\n",
        "print(match_list)"
      ],
      "id": "e56570bd"
    },
    {
      "cell_type": "markdown",
      "metadata": {
        "id": "59a55cb6"
      },
      "source": [
        "### Ejercicio 6\n",
        "\n",
        "En la siguiente celda está definida la variable `index` como cadena de texto; es el índice de la Gaceta Legislativa de la LVIII Legislatura de Querétaro. Compila un patrón de búsqueda y utiliza el método finditer para encontrar una coincidencia por índice; es decir, la primera coincidencia debería ser `Orden del Día......3`, la segunda coincidecia debería ser `Acta de la Sesión Solemne del Pleno de la Quincuagésima Octava Legislatura del Estado de Querétaro, de fecha 6 de julio de 2017. ......4`, y así sucesivamente. Además, crea tu patrón de búsqueda con dos agrupaciones, de tal forma que el primer grupo sea el título del índice y el segundo sea la página. Por ejemplo, en la primera coincidencia, el primer grupo debería ser `Orden del día` y el segundo grupo debería ser `3`.\n",
        "Imprima sus resultados con un ciclo `for` sobre el iterador que devuelve el método `finditer`; imprima tanto la coincidencia completa como los grupos.\n",
        "\n",
        "Tips:\n",
        "- Recuerden la bandera de compilación `re.M`\n",
        "- El metacaracter para el salto de línea es `\\n`\n",
        "- ¡Importante! Recuerden cómo convertir a un cuantificador en perezoso.\n",
        "\n",
        "\n"
      ],
      "id": "59a55cb6"
    },
    {
      "cell_type": "code",
      "execution_count": null,
      "metadata": {
        "id": "bae9d7d4"
      },
      "outputs": [],
      "source": [
        "index = \"\"\"\n",
        "Orden del Día ...........................................................................................................................3\n",
        "\n",
        "Acta de la Sesión Solemne del Pleno de la Quincuagésima Octava Legislatura del Estado\n",
        "de Querétaro, de fecha 6 de julio de 2017. .................................................................................4\n",
        "\n",
        "Acta de la Sesión Ordinaria del Pleno de la Quincuagésima Octava Legislatura del Estado\n",
        "de Querétaro, de fecha 6 de julio de 2017. .................................................................................5\n",
        "\n",
        "Acta de la Sesión Solemne del Pleno de la Quincuagésima Octava Legislatura del Estado\n",
        "de Querétaro, de fecha 13 de julio de 2017. ...............................................................................9\n",
        "\n",
        "Comunicaciones Oficiales ......................................................................................................... 10\n",
        "\n",
        "Turno de Iniciativas ................................................................................................................. 11\n",
        "\n",
        "Dictamen de la iniciativa para exhortar al Francisco Domínguez Servién, para que en\n",
        "ejercicio de las facultades como gobernador del Estado de Querétaro, realice la\n",
        "declaratoria como Patrimonio Cultural Intangible de la Fiesta de San Miguel Arcángel en\n",
        "el Poblado de San Miguel, Municipio de Tolimán. Presentado por la Comisión de\n",
        "Educación, Cultura, Ciencia, Tecnología e Innovación. (Discusión y Votación) (Sentido:\n",
        "Aprobación) ............................................................................................................................ 13\n",
        "\n",
        "Dictamen de la iniciativa para exhortar al M.V.Z. Francisco Domínguez Servién, para que\n",
        "en ejercicio de las facultades como gobernador del Estado de Querétaro, realice la\n",
        "declaratoria como Patrimonio Cultural Intangible de la Artesanía denominada Muñeca de\n",
        "Artesanal de Amealco. Presentado por la Comisión de Educación, Cultura, Ciencia,\n",
        "Tecnología e Innovación. (Discusión y Votación) (Sentido: Aprobación) ...................................... 15\n",
        "\n",
        "Dictamen de la Iniciativa de Ley que reforma, adiciona y deroga diversas disposiciones\n",
        "del Código Penal para el Estado de Querétaro en materia de combate la corrupción.\n",
        "Presentado por la Comisión de Administración y Procuración de Justicia. (Discusión y\n",
        "Votación) (Sentido: Aprobación) ............................................................................................... 17\n",
        "\n",
        "Dictamen de la Iniciativa de Ley Orgánica de la Fiscalía General del Estado de Querétaro.\n",
        "Presentado por la Comisión de Administración y Procuración de Justicia. (Discusión y\n",
        "Votación) (Sentido: Aprobación) ............................................................................................... 25\n",
        "\n",
        "Dictamen de las Iniciativas de Ley de Protección de Datos Personales en Posesión de\n",
        "Sujetos Obligados del Estado de Querétaro. Presentado por la Comisión de Derechos\n",
        "Humanos y Acceso a la Información Pública. (Discusión y Votación) (Sentido:\n",
        "Aprobación) ............................................................................................................................ 29\n",
        "\n",
        "Dictamen de la Iniciativa de Decreto para declarar el año 2018 como Año de la Mujer.\n",
        "Presentado por la Comisión de Igualdad de Género, Grupos Vulnerables y Discriminados.\n",
        "(Discusión y Votación) (Sentido: Aprobación) ............................................................................ 55\n",
        "\n",
        "Dictamen de la Solicitud de Pensión por Muerte a favor de la C. Ofelia Teresita Gómez\n",
        "González. Presentado por la Comisión de Trabajo y Previsión Social. (Discusión y\n",
        "Votación) (Sentido: Aprobación) ............................................................................................... 57\n",
        "\n",
        "Dictamen de la Solicitud de Pensión por Muerte a favor de la C. Ma. Guadalupe Pérez\n",
        "Saavedra. Presentado por la Comisión de Trabajo y Previsión Social. (Discusión y\n",
        "Votación) (Sentido: Aprobación) ............................................................................................... 59\n",
        "\n",
        "Dictamen de la Solicitud de Pensión por Muerte a favor de la C. Juana Ávila García.\n",
        "Presentado por la Comisión de Trabajo y Previsión Social. (Discusión y Votación)\n",
        "(Sentido: Aprobación) ............................................................................................................. 61\n",
        "\n",
        "Dictamen de la Solicitud de Pensión por Muerte a favor de la C. Estela Amaro Ramírez.\n",
        "Presentado por la Comisión de Trabajo y Previsión Social. (Discusión y Votación)\n",
        "(Sentido: Aprobación) ............................................................................................................. 63\n",
        "\n",
        "Dictamen de la Solicitud de Pensión por Muerte a favor de la C. Lucia Sánchez Sánchez.\n",
        "Presentado por la Comisión de Trabajo y Previsión Social. (Discusión y Votación)\n",
        "(Sentido: Aprobación) ............................................................................................................. 65\n",
        "\n",
        "Dictamen de la Solicitud de Pensión por Muerte a favor de la C. Delia Rincón Lara.\n",
        "Presentado por la Comisión de Trabajo y Previsión Social. (Discusión y Votación)\n",
        "(Sentido: Aprobación) ............................................................................................................. 67\n",
        "\n",
        "Dictamen de la Solicitud de Pensión por Muerte a favor de la C. Teresa Soto Álvarez.\n",
        "Presentado por la Comisión de Trabajo y Previsión Social. (Discusión y Votación)\n",
        "(Sentido: Aprobación) ............................................................................................................. 69\n",
        "\n",
        "Dictamen de la Solicitud de Pensión por Muerte a favor de la C. Amelia García Araujo.\n",
        "Presentado por la Comisión de Trabajo y Previsión Social. (Discusión y Votación)\n",
        "(Sentido: Aprobación) ............................................................................................................. 70\n",
        "\n",
        "Dictamen de la Solicitud de Pensión por Muerte a favor de la C. María Guadalupe Aguilar\n",
        "Landaverde. Presentado por la Comisión de Trabajo y Previsión Social. (Discusión y\n",
        "Votación) (Sentido: Aprobación) ............................................................................................... 72\n",
        "\n",
        "Dictamen de la Solicitud de Pensión por Muerte a favor de la C. María Dolores Cervantes\n",
        "Malagón. Presentado por la Comisión de Trabajo y Previsión Social. (Discusión y\n",
        "Votación) (Sentido: Aprobación) ............................................................................................... 74\n",
        "\n",
        "Dictamen de la Solicitud de Pensión por Muerte a favor de la C. J. Jesús González Jaime.\n",
        "Presentado por la Comisión de Trabajo y Previsión Social. (Discusión y Votación)\n",
        "(Sentido: Aprobación) ............................................................................................................. 76\n",
        "\n",
        "\"\"\""
      ],
      "id": "bae9d7d4"
    },
    {
      "cell_type": "code",
      "source": [
        "prueba = \"Orden del Día ...........................................................................................................................3\""
      ],
      "metadata": {
        "id": "iMEiMhAuhTIG"
      },
      "id": "iMEiMhAuhTIG",
      "execution_count": null,
      "outputs": []
    },
    {
      "cell_type": "code",
      "execution_count": null,
      "metadata": {
        "id": "049426e6",
        "colab": {
          "base_uri": "https://localhost:8080/"
        },
        "outputId": "926e3b11-3501-4073-e5d7-7440cbeaab34"
      },
      "outputs": [
        {
          "output_type": "stream",
          "name": "stdout",
          "text": [
            "[]\n"
          ]
        }
      ],
      "source": [
        "#Les comparto que hice, estaré atento a cualquier retroalimentación que me puedan dar, prefiero aprender de mis errores:\n",
        "import re \n",
        "\n",
        "pattern = re.compile(r'(^.+\\w (?=[{.??}]) (\\d+))', re.M) # lo que yo busco es crear una expresión regular usando re.M tal que los inicios de la cadena sean los mismos, en este caso tomar cualquier caracter con \\w y hacer \"perezoso\" con el ?  para cada puntito que funciona como indice finalmente considerar valores numericos con \\d+\n",
        "match_list = pattern.findall(prueba) #primero hay que usar el método findall con el indice de prueba\n",
        "print(match_list)"
      ],
      "id": "049426e6"
    },
    {
      "cell_type": "code",
      "source": [
        "match_iter = pattern.finditer(prueba) # después hacer uso del método finditer como se vio en una ayudantía \n",
        "print(match_iter)"
      ],
      "metadata": {
        "colab": {
          "base_uri": "https://localhost:8080/"
        },
        "id": "_oiY9UmGhDoq",
        "outputId": "dd5eb033-47cb-40c4-f827-d141262a7c51"
      },
      "id": "_oiY9UmGhDoq",
      "execution_count": null,
      "outputs": [
        {
          "output_type": "stream",
          "name": "stdout",
          "text": [
            "<callable_iterator object at 0x7f50c4de1090>\n"
          ]
        }
      ]
    },
    {
      "cell_type": "code",
      "source": [
        "for i, match in enumerate(match_iter):\n",
        "    print(f'match {i}:', match) #y finalmente imprimir los valores cadena por cadena con for pero no logré hacer nada"
      ],
      "metadata": {
        "id": "KqFXUEo6i8AW"
      },
      "id": "KqFXUEo6i8AW",
      "execution_count": null,
      "outputs": []
    },
    {
      "cell_type": "markdown",
      "metadata": {
        "id": "f895bf61"
      },
      "source": [
        "### Ejercicio 7\n",
        "\n",
        "Crea una función en python tal que dada una función matemática (evaluada sobre los números reales) cualquiera y un intervalo cualquiera, calcule su integral definida."
      ],
      "id": "f895bf61"
    },
    {
      "cell_type": "code",
      "source": [
        "def f(x): # aqui se puede cambiar el valor de la función\n",
        "  return x**4 + 5*x**3 - 2*x**2 + 3*x -5"
      ],
      "metadata": {
        "id": "4EfNaNIzHaWL"
      },
      "id": "4EfNaNIzHaWL",
      "execution_count": null,
      "outputs": []
    },
    {
      "cell_type": "code",
      "source": [
        "a = float(input('Introduce el valor de a: '))\n",
        "b  = float(input('Introduce el valor de b: '))\n",
        "n = int(input('Introduce el valor de las particiones, asegúrate de introducir un número entero: '))\n",
        "delta = (b-a)/n\n",
        "def calculadora_integral(a, b, n):\n",
        "  suma = 0  # iniciamos el contador de suma que incrementara conforme apliquemos la regla de recurrencia de la suma de riemman\n",
        "  paso = 0\n",
        "  for i in range(1,n+1):\n",
        "    suma = suma + f((a+(i-1/2))*delta)\n",
        "    paso = (b-a)/n*suma   # al final el paso será el resultado correspondiente a la integral\n",
        "  return paso\n",
        "calculadora_integral(a,b,n)   #finalmente llamamos a la función para que trabaje"
      ],
      "metadata": {
        "id": "S6Skuerfbhpq",
        "colab": {
          "base_uri": "https://localhost:8080/"
        },
        "outputId": "9efe8309-a818-407b-8165-3f3ace7f7972"
      },
      "id": "S6Skuerfbhpq",
      "execution_count": null,
      "outputs": [
        {
          "name": "stdout",
          "output_type": "stream",
          "text": [
            "Introduce el valor de a: 0\n",
            "Introduce el valor de b: 10\n",
            "Introduce el valor de las particiones, asegúrate de introducir un número entero: 10000\n"
          ]
        },
        {
          "output_type": "execute_result",
          "data": {
            "text/plain": [
              "31933.3331058334"
            ]
          },
          "metadata": {},
          "execution_count": 56
        }
      ]
    },
    {
      "cell_type": "markdown",
      "metadata": {
        "id": "fb25c83f"
      },
      "source": [
        "### Ejercicio 8 \n",
        "\n",
        "Crea una función en python tal que dada una función matemática cualquiera (evaluada sobre los números reales) encuentre los ceros de la función en un intervalo si es que existen. Esto significa que se buscan los puntos $x\\in[a,b]\\subset \\mathbb{R}$ tales que $f(x) = 0$ ."
      ],
      "id": "fb25c83f"
    },
    {
      "cell_type": "code",
      "execution_count": null,
      "metadata": {
        "id": "6a0921d6"
      },
      "outputs": [],
      "source": [
        "def f(x):\n",
        "  return x**2-3 #esta funcion puede ser cambiada"
      ],
      "id": "6a0921d6"
    },
    {
      "cell_type": "code",
      "source": [
        "# en si hay distintos métodos, este es el método de la secante buscamos que un punto x1 cumpla la condición x1=x0-f(x0)/((f(x0)-f(x1))/(x0-x1)) \n",
        "x0 = float(input('Introduce el primer valor donde creas que está la raíz de la función: '))\n",
        "x1 = float(input('Introduce el segundo valor donde creas que está la raíz de la función: '))\n",
        "n = int(input('Ahora introduce el número de iteraciones que quieras usar, por favor introduce un número entero: '))\n",
        "def ceros(f,x0,x1,n):\n",
        "  for valor in range(1, n): # empezamos las iteraciones con los valores ingresadas anteriormente\n",
        "    f0 = f(x0)\n",
        "    f1 = f(x1)\n",
        "    xi = x0 - (f0/((f0-f1)/(x0-x1)))    # esta es la relación que puse arriba\n",
        "    x0 = x1\n",
        "    x1 = xi  # se cumplira hasta que se tengan las siguientes condiciones\n",
        "    print(f'La raíz se encuentra en x = {xi} con {n} iteraciones') # finalmente se dará un valor correspondiente de cada raíz\n",
        "ceros(f,x0,x1,n) #imprime el valor final de los ceros que para este caso se podría decir son 2 el primero 1.32 y el segundo 1.73"
      ],
      "metadata": {
        "id": "COhLjSNrdfWS",
        "colab": {
          "base_uri": "https://localhost:8080/"
        },
        "outputId": "f61b4de4-9a4a-46da-e042-d407f1a5631a"
      },
      "id": "COhLjSNrdfWS",
      "execution_count": null,
      "outputs": [
        {
          "output_type": "stream",
          "name": "stdout",
          "text": [
            "Introduce el primer valor donde creas que está la raíz de la función: 1\n",
            "Introduce el segundo valor donde creas que está la raíz de la función: 10\n",
            "Ahora introduce el número de iteraciones que quieras usar, por favor introduce un número entero: 10\n",
            "La raíz se encuentra en x = 1.1818181818181819 con 10 iteraciones\n",
            "La raíz se encuentra en x = 1.3252032520325194 con 10 iteraciones\n",
            "La raíz se encuentra en x = 1.8213443396226419 con 10 iteraciones\n",
            "La raíz se encuentra en x = 1.7205051836165723 con 10 iteraciones\n",
            "La raíz se encuentra en x = 1.7317597309616692 con 10 iteraciones\n",
            "La raíz se encuentra en x = 1.7320517810344518 con 10 iteraciones\n",
            "La raíz se encuentra en x = 1.7320508074870735 con 10 iteraciones\n",
            "La raíz se encuentra en x = 1.7320508075688772 con 10 iteraciones\n",
            "La raíz se encuentra en x = 1.7320508075688774 con 10 iteraciones\n"
          ]
        }
      ]
    },
    {
      "cell_type": "markdown",
      "metadata": {
        "id": "bf1b10db"
      },
      "source": [
        "## Ejercicio 9\n",
        "\n",
        "Crea una función en python tal que dada una matriz cuadrada (con entrada en los números complejos) de cualquier tamaño, calcule sus valores propios y sus vectores propios.\n"
      ],
      "id": "bf1b10db"
    },
    {
      "cell_type": "code",
      "execution_count": null,
      "metadata": {
        "id": "8241e5cc",
        "colab": {
          "base_uri": "https://localhost:8080/"
        },
        "outputId": "68ab0aac-202b-4b82-88be-ee572a7344ce"
      },
      "outputs": [
        {
          "output_type": "execute_result",
          "data": {
            "text/plain": [
              "array([[ 3.+10.j,  4. +5.j],\n",
              "       [ 7. +2.j, -3. +8.j]])"
            ]
          },
          "metadata": {},
          "execution_count": 48
        }
      ],
      "source": [
        "def matriz():\n",
        "  return np.array([[3+10j,4+5j],[7+2j,-3+8j]]) # aquí se puede cambiar los elementos de la matriz, no nos mencionan si es el usuario quien debe declararla al ejecutar el programa\n",
        "matriz() # aqui vemos la matriz que creamos"
      ],
      "id": "8241e5cc"
    },
    {
      "cell_type": "code",
      "source": [
        "def valores_vectores(matriz): # en realidad solo depende del valor que tendrá la matriz anterior\n",
        "  eingenvalues,eigenvectors=np.linalg.eig(matriz) # hay una atributo de numpy que nos permite calcular los valores y vectores propios llamado linalg con ello podemos hacer esta parte del proceso\n",
        "  return eingenvalues, eigenvectors\n",
        "\n",
        "print(f'Valores propios de la matriz = {eingenvalues}') #imprimimos los valores y vectores\n",
        "print(f'Vectores propios de la matriz = {eigenvectors}')"
      ],
      "metadata": {
        "colab": {
          "base_uri": "https://localhost:8080/"
        },
        "id": "Acqz0bufe3SZ",
        "outputId": "76cff656-e4a9-49cd-d4a4-cb5aae08e396"
      },
      "id": "Acqz0bufe3SZ",
      "execution_count": null,
      "outputs": [
        {
          "output_type": "stream",
          "name": "stdout",
          "text": [
            "Valores propios de la matriz = [1.+2.j 1.+0.j]\n",
            "Vectores propios de la matriz = [[ 0.70710678+0.00000000e+00j  0.70710678+0.00000000e+00j]\n",
            " [ 0.70710678+0.00000000e+00j -0.70710678-1.38777878e-17j]]\n"
          ]
        }
      ]
    },
    {
      "cell_type": "markdown",
      "metadata": {
        "id": "d9357967"
      },
      "source": [
        "### Ejercicio 10\n",
        "n\n",
        "Crea una función en python tal que dado cualquier número natural se regrese la descomposición en factores de primos de dicho número. Esto significa que se regresaría una lista de duplas; cada entrada de la lista es una tupla donde la primera entrada es el número primo y la segunda entrada es el exponente. Ejemplo:\n",
        "\n",
        "Para el número $ 3720937500 $ tiene una descompoción de la siguiente forma:\n",
        "\n",
        "$ 3720937500 = 2^2 3^5 5^7 7^2$\n",
        "\n",
        "por lo que lo que se buscaría es que la salida sea:\n",
        "\n",
        "[(2,2),(3,5),(5,7),(7,2)]"
      ],
      "id": "d9357967"
    },
    {
      "cell_type": "code",
      "execution_count": null,
      "metadata": {
        "id": "1f1636bf",
        "colab": {
          "base_uri": "https://localhost:8080/"
        },
        "outputId": "3f52cbfa-c529-450f-b269-c238b797602e"
      },
      "outputs": [
        {
          "output_type": "stream",
          "name": "stdout",
          "text": [
            "Introduce el número que quieras transformar: 15\n",
            "La descomposición será: [[3, 1], [5.0, 1]]\n"
          ]
        }
      ],
      "source": [
        "valor = int(input('Introduce el número que quieras transformar: '))\n",
        "def numeros_primos(valor):\n",
        "    i = 2 # iterador sobre el número\n",
        "    primos = [] # Lista vacía para depositar los factores y exponentes\n",
        "    while i* i <= valor: \n",
        "        if valor % i == 0:  # buscamos que el modulo del numero sea cero, si eso se cumple se tendra el iterador sobre el exponente que se desea almacenar como lista\n",
        "            expo = 0\n",
        "            while valor % i == 0: \n",
        "                expo = expo +1 #expo += 1\n",
        "                valor = valor/i #n /= i   # en este ciclo se busca iterar sobre el numero que el usuario introduce e irlo dividiendo hasta que el módulo de esta división con el iterador sea cero\n",
        "                primos.append([i,expo]) # para juntarlos en la lista primos\n",
        "        i = i+1 #i += 1\n",
        "\n",
        "    if valor > 1: # siempre que se tenga un número mayor a 1 introducido por el usuario, se dará su primer valor \n",
        "        primos.append([valor,1])\n",
        "\n",
        "    return primos\n",
        "print(f'La descomposición será: {descom_primos(valor)}') #este algoritmo funciona para numeros pequeños por ejemplo el 15 "
      ],
      "id": "1f1636bf"
    },
    {
      "cell_type": "code",
      "source": [
        "valor = 3720937500\n",
        "numeros_primos(valor)\n",
        "print(f'La descomposición será: {descom_primos(valor)}') # sin embargo con el ejemplo que ponen se repite cada cuantas veces aparece la potencia y no entrega el valor máximo del exponente\n"
      ],
      "metadata": {
        "colab": {
          "base_uri": "https://localhost:8080/"
        },
        "id": "XXgiiKVsf69n",
        "outputId": "3847d0cc-4243-43dd-fde2-334605a48aed"
      },
      "id": "XXgiiKVsf69n",
      "execution_count": null,
      "outputs": [
        {
          "output_type": "stream",
          "name": "stdout",
          "text": [
            "La descomposición será: [[2, 1], [2, 2], [3, 1], [3, 2], [3, 3], [3, 4], [3, 5], [5, 1], [5, 2], [5, 3], [5, 4], [5, 5], [5, 6], [5, 7], [7, 1], [7, 2]]\n"
          ]
        }
      ]
    },
    {
      "cell_type": "markdown",
      "metadata": {
        "id": "b1d35744"
      },
      "source": [
        "### Ejercicio 11 \n",
        "\n",
        "El algoritmo de la distancia de Levenshtein se muestra en la siguiente celda.\n",
        "\n",
        "Demuestre que la distancia de Levenshtein es en efecto una métrica. Es decir, demuestre (de manera formal y rigurosa) que:\n",
        "\n",
        "$\\mathcal{L} = \\{a,b,c,d,...,z,A,B,C,...,Z,1,2,3,4,..,9,0, _ \\> \\}$\n",
        "\n",
        "\n",
        "$Wordspace = \\mathcal{L}\\times \\mathcal{L} \\times... $\n",
        "\n",
        "\n",
        "$ d(x,y)=0$ $sii$ $x=y$ $\\forall x,y \\in Wordspace$\n",
        "\n",
        "$ d(x,y)=d(y,x)$  $\\forall x,y \\in Wordspace$\n",
        "\n",
        "$ d(x,z)\\leq d(x,y)+d(y,z)$  $\\forall x,y,z \\in Wordspace$\n",
        "\n",
        "\n",
        "Con esta demostración se ha justificado que $Wordspace$ es un espacio métrico\n",
        "\n",
        "(Nota: Aquí el último elemento de $\\mathcal{L}$ trata de denotar el espacio en blanco.)\n",
        "\n",
        "\n",
        "# Punto Extra\n",
        "\n",
        "¿Cuál es la cardinalidad de $Wordspace$? Justifique su respuesta\n",
        "\n",
        "\n",
        "\n",
        "\n",
        "\n",
        "\n",
        "\n",
        "\n",
        "\n",
        "\n"
      ],
      "id": "b1d35744"
    },
    {
      "cell_type": "markdown",
      "source": [
        "Para mostrar que $\\mathcal{L}$ es una métrica tenemos que ver que se cumplan los 3 axiomas de una métrica con alguno de sus elementos, en efecto:\n",
        "\n",
        "$i)$ Sea  $x = a$ y $y = a $ con $a\\in Wordspace$ tenemos que:\n",
        "$$\n",
        "d(x,y) = d(a,a) = d(0) = 0$$ $$\\therefore d(x,y) = 0 \\forall a \\in Wordspace $$ con $x = y$ , pues $0\\in Wordspace$\n",
        "\n",
        "$ii)$ Sean $x = a$ y $y = b$ con $a,b\\in Wordspace$, entonces tenemos que:\n",
        "$$\n",
        "d(x,y) = d(a,b) = |a-b| = |(-1)(b-a)|\n",
        "$$\n",
        "$$\n",
        "= |-1||b-a| = |b-a| = d(b,a) = d(y,x)\n",
        "$$\n",
        "\n",
        "$$\n",
        "\\therefore d(a,b) = d(b,a) \\forall a,b\\in Wordspace\n",
        "$$\n",
        "\n",
        "\n",
        "\n",
        "$iii)$  Sean $x = a$, $y = b$ y $z = c$ con $a,b,c\\in Wordspcae$ entonces tenemos que:\n",
        "$$\n",
        "d(x,y) = d(a,b) = |a-b|\n",
        "$$\n",
        "\n",
        "$$\n",
        "= |a-b+(c-c)| = |(a-c)+(b-c)|\n",
        "$$\n",
        "\n",
        "$$\n",
        "\\leq |a-c|+|b-c|\n",
        "$$ (esto es debido a uno de los axiomas de espacios métricos)\n",
        "\n",
        "$$ \n",
        "=d(a,c)+d(b,c) = d(x,z)+d(z,y)\n",
        "$$\n",
        "\n",
        "$$\n",
        "\\therefore d(a,b) \\leq d(a,c) + d(c,b) \\forall a,b,c \\in Wordspace\n",
        "$$\n",
        "\n",
        "Y por lo tanto $Wordspace$ es un espacio métrico.\n"
      ],
      "metadata": {
        "id": "z-0HWKfYZBfh"
      },
      "id": "z-0HWKfYZBfh"
    },
    {
      "cell_type": "markdown",
      "source": [
        "\n",
        "La cardinalidad de Wordspace es finita, pues se tiene que el conjunto L es finito en cuanto a dimensión, al realizar el producto cartesiano se tendrá un producto de elementos finitos cada uno con una cardinalidad de 65 elementos (considerando a la ñ como uno de sus elementos, se tendrán 27 minúsculas, 27 mayúsculas, 10 dígitos y un espacio blanco), al ser multiplicado n veces tendremos una cardinalidad de $65\\cdot 65\\cdot 65\\cdots 65$ n veces, de tal forma que la cardinalidad en este caso será $65^n$ con n el número de veces que fue multiplicada la métrica $\\mathcal{L}$."
      ],
      "metadata": {
        "id": "KZKyexMgokPT"
      },
      "id": "KZKyexMgokPT"
    },
    {
      "cell_type": "code",
      "execution_count": null,
      "metadata": {
        "id": "7acb4c90"
      },
      "outputs": [],
      "source": [
        "import numpy as np\n",
        "\n",
        "def levenshtein(seq1, seq2):\n",
        "    size_x = len(seq1) + 1\n",
        "    size_y = len(seq2) + 1\n",
        "    matrix = np.zeros ((size_x, size_y))\n",
        "    for x in range(size_x):\n",
        "        matrix [x, 0] = x\n",
        "    for y in range(size_y):\n",
        "        matrix [0, y] = y\n",
        "\n",
        "    for x in range(1, size_x):\n",
        "        for y in range(1, size_y):\n",
        "            if seq1[x-1] == seq2[y-1]:\n",
        "                matrix [x,y] = min(\n",
        "                    matrix[x-1, y] + 1,\n",
        "                    matrix[x-1, y-1],\n",
        "                    matrix[x, y-1] + 1\n",
        "                )\n",
        "                print(matrix[x-1, y] + 1,matrix[x-1, y-1],matrix[x, y-1] + 1)\n",
        "            else:\n",
        "                matrix [x,y] = min(\n",
        "                    matrix[x-1,y] + 1,\n",
        "                    matrix[x-1,y-1] + 1,\n",
        "                    matrix[x,y-1] + 1\n",
        "                )\n",
        "                print(matrix[x-1,y] + 1,matrix[x-1,y-1] + 1,matrix[x,y-1] + 1)\n",
        "            print(matrix)\n",
        "            print('---------')\n",
        "    print (matrix)\n",
        "    return (matrix[size_x - 1, size_y - 1])"
      ],
      "id": "7acb4c90"
    },
    {
      "cell_type": "code",
      "execution_count": null,
      "metadata": {
        "id": "1050df65",
        "colab": {
          "base_uri": "https://localhost:8080/"
        },
        "outputId": "b425dc7e-5438-49e1-db1b-cba9578cce80"
      },
      "outputs": [
        {
          "output_type": "stream",
          "name": "stdout",
          "text": [
            "2.0 1.0 2.0\n",
            "[[0. 1. 2. 3. 4. 5. 6.]\n",
            " [1. 1. 0. 0. 0. 0. 0.]\n",
            " [2. 0. 0. 0. 0. 0. 0.]\n",
            " [3. 0. 0. 0. 0. 0. 0.]\n",
            " [4. 0. 0. 0. 0. 0. 0.]\n",
            " [5. 0. 0. 0. 0. 0. 0.]\n",
            " [6. 0. 0. 0. 0. 0. 0.]\n",
            " [7. 0. 0. 0. 0. 0. 0.]]\n",
            "---------\n",
            "3.0 2.0 2.0\n",
            "[[0. 1. 2. 3. 4. 5. 6.]\n",
            " [1. 1. 2. 0. 0. 0. 0.]\n",
            " [2. 0. 0. 0. 0. 0. 0.]\n",
            " [3. 0. 0. 0. 0. 0. 0.]\n",
            " [4. 0. 0. 0. 0. 0. 0.]\n",
            " [5. 0. 0. 0. 0. 0. 0.]\n",
            " [6. 0. 0. 0. 0. 0. 0.]\n",
            " [7. 0. 0. 0. 0. 0. 0.]]\n",
            "---------\n",
            "4.0 3.0 3.0\n",
            "[[0. 1. 2. 3. 4. 5. 6.]\n",
            " [1. 1. 2. 3. 0. 0. 0.]\n",
            " [2. 0. 0. 0. 0. 0. 0.]\n",
            " [3. 0. 0. 0. 0. 0. 0.]\n",
            " [4. 0. 0. 0. 0. 0. 0.]\n",
            " [5. 0. 0. 0. 0. 0. 0.]\n",
            " [6. 0. 0. 0. 0. 0. 0.]\n",
            " [7. 0. 0. 0. 0. 0. 0.]]\n",
            "---------\n",
            "5.0 4.0 4.0\n",
            "[[0. 1. 2. 3. 4. 5. 6.]\n",
            " [1. 1. 2. 3. 4. 0. 0.]\n",
            " [2. 0. 0. 0. 0. 0. 0.]\n",
            " [3. 0. 0. 0. 0. 0. 0.]\n",
            " [4. 0. 0. 0. 0. 0. 0.]\n",
            " [5. 0. 0. 0. 0. 0. 0.]\n",
            " [6. 0. 0. 0. 0. 0. 0.]\n",
            " [7. 0. 0. 0. 0. 0. 0.]]\n",
            "---------\n",
            "6.0 5.0 5.0\n",
            "[[0. 1. 2. 3. 4. 5. 6.]\n",
            " [1. 1. 2. 3. 4. 5. 0.]\n",
            " [2. 0. 0. 0. 0. 0. 0.]\n",
            " [3. 0. 0. 0. 0. 0. 0.]\n",
            " [4. 0. 0. 0. 0. 0. 0.]\n",
            " [5. 0. 0. 0. 0. 0. 0.]\n",
            " [6. 0. 0. 0. 0. 0. 0.]\n",
            " [7. 0. 0. 0. 0. 0. 0.]]\n",
            "---------\n",
            "7.0 6.0 6.0\n",
            "[[0. 1. 2. 3. 4. 5. 6.]\n",
            " [1. 1. 2. 3. 4. 5. 6.]\n",
            " [2. 0. 0. 0. 0. 0. 0.]\n",
            " [3. 0. 0. 0. 0. 0. 0.]\n",
            " [4. 0. 0. 0. 0. 0. 0.]\n",
            " [5. 0. 0. 0. 0. 0. 0.]\n",
            " [6. 0. 0. 0. 0. 0. 0.]\n",
            " [7. 0. 0. 0. 0. 0. 0.]]\n",
            "---------\n",
            "2.0 2.0 3.0\n",
            "[[0. 1. 2. 3. 4. 5. 6.]\n",
            " [1. 1. 2. 3. 4. 5. 6.]\n",
            " [2. 2. 0. 0. 0. 0. 0.]\n",
            " [3. 0. 0. 0. 0. 0. 0.]\n",
            " [4. 0. 0. 0. 0. 0. 0.]\n",
            " [5. 0. 0. 0. 0. 0. 0.]\n",
            " [6. 0. 0. 0. 0. 0. 0.]\n",
            " [7. 0. 0. 0. 0. 0. 0.]]\n",
            "---------\n",
            "3.0 2.0 3.0\n",
            "[[0. 1. 2. 3. 4. 5. 6.]\n",
            " [1. 1. 2. 3. 4. 5. 6.]\n",
            " [2. 2. 2. 0. 0. 0. 0.]\n",
            " [3. 0. 0. 0. 0. 0. 0.]\n",
            " [4. 0. 0. 0. 0. 0. 0.]\n",
            " [5. 0. 0. 0. 0. 0. 0.]\n",
            " [6. 0. 0. 0. 0. 0. 0.]\n",
            " [7. 0. 0. 0. 0. 0. 0.]]\n",
            "---------\n",
            "4.0 3.0 3.0\n",
            "[[0. 1. 2. 3. 4. 5. 6.]\n",
            " [1. 1. 2. 3. 4. 5. 6.]\n",
            " [2. 2. 2. 3. 0. 0. 0.]\n",
            " [3. 0. 0. 0. 0. 0. 0.]\n",
            " [4. 0. 0. 0. 0. 0. 0.]\n",
            " [5. 0. 0. 0. 0. 0. 0.]\n",
            " [6. 0. 0. 0. 0. 0. 0.]\n",
            " [7. 0. 0. 0. 0. 0. 0.]]\n",
            "---------\n",
            "5.0 4.0 4.0\n",
            "[[0. 1. 2. 3. 4. 5. 6.]\n",
            " [1. 1. 2. 3. 4. 5. 6.]\n",
            " [2. 2. 2. 3. 4. 0. 0.]\n",
            " [3. 0. 0. 0. 0. 0. 0.]\n",
            " [4. 0. 0. 0. 0. 0. 0.]\n",
            " [5. 0. 0. 0. 0. 0. 0.]\n",
            " [6. 0. 0. 0. 0. 0. 0.]\n",
            " [7. 0. 0. 0. 0. 0. 0.]]\n",
            "---------\n",
            "6.0 4.0 5.0\n",
            "[[0. 1. 2. 3. 4. 5. 6.]\n",
            " [1. 1. 2. 3. 4. 5. 6.]\n",
            " [2. 2. 2. 3. 4. 4. 0.]\n",
            " [3. 0. 0. 0. 0. 0. 0.]\n",
            " [4. 0. 0. 0. 0. 0. 0.]\n",
            " [5. 0. 0. 0. 0. 0. 0.]\n",
            " [6. 0. 0. 0. 0. 0. 0.]\n",
            " [7. 0. 0. 0. 0. 0. 0.]]\n",
            "---------\n",
            "7.0 6.0 5.0\n",
            "[[0. 1. 2. 3. 4. 5. 6.]\n",
            " [1. 1. 2. 3. 4. 5. 6.]\n",
            " [2. 2. 2. 3. 4. 4. 5.]\n",
            " [3. 0. 0. 0. 0. 0. 0.]\n",
            " [4. 0. 0. 0. 0. 0. 0.]\n",
            " [5. 0. 0. 0. 0. 0. 0.]\n",
            " [6. 0. 0. 0. 0. 0. 0.]\n",
            " [7. 0. 0. 0. 0. 0. 0.]]\n",
            "---------\n",
            "3.0 3.0 4.0\n",
            "[[0. 1. 2. 3. 4. 5. 6.]\n",
            " [1. 1. 2. 3. 4. 5. 6.]\n",
            " [2. 2. 2. 3. 4. 4. 5.]\n",
            " [3. 3. 0. 0. 0. 0. 0.]\n",
            " [4. 0. 0. 0. 0. 0. 0.]\n",
            " [5. 0. 0. 0. 0. 0. 0.]\n",
            " [6. 0. 0. 0. 0. 0. 0.]\n",
            " [7. 0. 0. 0. 0. 0. 0.]]\n",
            "---------\n",
            "3.0 3.0 4.0\n",
            "[[0. 1. 2. 3. 4. 5. 6.]\n",
            " [1. 1. 2. 3. 4. 5. 6.]\n",
            " [2. 2. 2. 3. 4. 4. 5.]\n",
            " [3. 3. 3. 0. 0. 0. 0.]\n",
            " [4. 0. 0. 0. 0. 0. 0.]\n",
            " [5. 0. 0. 0. 0. 0. 0.]\n",
            " [6. 0. 0. 0. 0. 0. 0.]\n",
            " [7. 0. 0. 0. 0. 0. 0.]]\n",
            "---------\n",
            "4.0 3.0 4.0\n",
            "[[0. 1. 2. 3. 4. 5. 6.]\n",
            " [1. 1. 2. 3. 4. 5. 6.]\n",
            " [2. 2. 2. 3. 4. 4. 5.]\n",
            " [3. 3. 3. 3. 0. 0. 0.]\n",
            " [4. 0. 0. 0. 0. 0. 0.]\n",
            " [5. 0. 0. 0. 0. 0. 0.]\n",
            " [6. 0. 0. 0. 0. 0. 0.]\n",
            " [7. 0. 0. 0. 0. 0. 0.]]\n",
            "---------\n",
            "5.0 4.0 4.0\n",
            "[[0. 1. 2. 3. 4. 5. 6.]\n",
            " [1. 1. 2. 3. 4. 5. 6.]\n",
            " [2. 2. 2. 3. 4. 4. 5.]\n",
            " [3. 3. 3. 3. 4. 0. 0.]\n",
            " [4. 0. 0. 0. 0. 0. 0.]\n",
            " [5. 0. 0. 0. 0. 0. 0.]\n",
            " [6. 0. 0. 0. 0. 0. 0.]\n",
            " [7. 0. 0. 0. 0. 0. 0.]]\n",
            "---------\n",
            "5.0 5.0 5.0\n",
            "[[0. 1. 2. 3. 4. 5. 6.]\n",
            " [1. 1. 2. 3. 4. 5. 6.]\n",
            " [2. 2. 2. 3. 4. 4. 5.]\n",
            " [3. 3. 3. 3. 4. 5. 0.]\n",
            " [4. 0. 0. 0. 0. 0. 0.]\n",
            " [5. 0. 0. 0. 0. 0. 0.]\n",
            " [6. 0. 0. 0. 0. 0. 0.]\n",
            " [7. 0. 0. 0. 0. 0. 0.]]\n",
            "---------\n",
            "6.0 5.0 6.0\n",
            "[[0. 1. 2. 3. 4. 5. 6.]\n",
            " [1. 1. 2. 3. 4. 5. 6.]\n",
            " [2. 2. 2. 3. 4. 4. 5.]\n",
            " [3. 3. 3. 3. 4. 5. 5.]\n",
            " [4. 0. 0. 0. 0. 0. 0.]\n",
            " [5. 0. 0. 0. 0. 0. 0.]\n",
            " [6. 0. 0. 0. 0. 0. 0.]\n",
            " [7. 0. 0. 0. 0. 0. 0.]]\n",
            "---------\n",
            "4.0 4.0 5.0\n",
            "[[0. 1. 2. 3. 4. 5. 6.]\n",
            " [1. 1. 2. 3. 4. 5. 6.]\n",
            " [2. 2. 2. 3. 4. 4. 5.]\n",
            " [3. 3. 3. 3. 4. 5. 5.]\n",
            " [4. 4. 0. 0. 0. 0. 0.]\n",
            " [5. 0. 0. 0. 0. 0. 0.]\n",
            " [6. 0. 0. 0. 0. 0. 0.]\n",
            " [7. 0. 0. 0. 0. 0. 0.]]\n",
            "---------\n",
            "4.0 4.0 5.0\n",
            "[[0. 1. 2. 3. 4. 5. 6.]\n",
            " [1. 1. 2. 3. 4. 5. 6.]\n",
            " [2. 2. 2. 3. 4. 4. 5.]\n",
            " [3. 3. 3. 3. 4. 5. 5.]\n",
            " [4. 4. 4. 0. 0. 0. 0.]\n",
            " [5. 0. 0. 0. 0. 0. 0.]\n",
            " [6. 0. 0. 0. 0. 0. 0.]\n",
            " [7. 0. 0. 0. 0. 0. 0.]]\n",
            "---------\n",
            "4.0 4.0 5.0\n",
            "[[0. 1. 2. 3. 4. 5. 6.]\n",
            " [1. 1. 2. 3. 4. 5. 6.]\n",
            " [2. 2. 2. 3. 4. 4. 5.]\n",
            " [3. 3. 3. 3. 4. 5. 5.]\n",
            " [4. 4. 4. 4. 0. 0. 0.]\n",
            " [5. 0. 0. 0. 0. 0. 0.]\n",
            " [6. 0. 0. 0. 0. 0. 0.]\n",
            " [7. 0. 0. 0. 0. 0. 0.]]\n",
            "---------\n",
            "5.0 4.0 5.0\n",
            "[[0. 1. 2. 3. 4. 5. 6.]\n",
            " [1. 1. 2. 3. 4. 5. 6.]\n",
            " [2. 2. 2. 3. 4. 4. 5.]\n",
            " [3. 3. 3. 3. 4. 5. 5.]\n",
            " [4. 4. 4. 4. 4. 0. 0.]\n",
            " [5. 0. 0. 0. 0. 0. 0.]\n",
            " [6. 0. 0. 0. 0. 0. 0.]\n",
            " [7. 0. 0. 0. 0. 0. 0.]]\n",
            "---------\n",
            "6.0 5.0 5.0\n",
            "[[0. 1. 2. 3. 4. 5. 6.]\n",
            " [1. 1. 2. 3. 4. 5. 6.]\n",
            " [2. 2. 2. 3. 4. 4. 5.]\n",
            " [3. 3. 3. 3. 4. 5. 5.]\n",
            " [4. 4. 4. 4. 4. 5. 0.]\n",
            " [5. 0. 0. 0. 0. 0. 0.]\n",
            " [6. 0. 0. 0. 0. 0. 0.]\n",
            " [7. 0. 0. 0. 0. 0. 0.]]\n",
            "---------\n",
            "6.0 6.0 6.0\n",
            "[[0. 1. 2. 3. 4. 5. 6.]\n",
            " [1. 1. 2. 3. 4. 5. 6.]\n",
            " [2. 2. 2. 3. 4. 4. 5.]\n",
            " [3. 3. 3. 3. 4. 5. 5.]\n",
            " [4. 4. 4. 4. 4. 5. 6.]\n",
            " [5. 0. 0. 0. 0. 0. 0.]\n",
            " [6. 0. 0. 0. 0. 0. 0.]\n",
            " [7. 0. 0. 0. 0. 0. 0.]]\n",
            "---------\n",
            "5.0 5.0 6.0\n",
            "[[0. 1. 2. 3. 4. 5. 6.]\n",
            " [1. 1. 2. 3. 4. 5. 6.]\n",
            " [2. 2. 2. 3. 4. 4. 5.]\n",
            " [3. 3. 3. 3. 4. 5. 5.]\n",
            " [4. 4. 4. 4. 4. 5. 6.]\n",
            " [5. 5. 0. 0. 0. 0. 0.]\n",
            " [6. 0. 0. 0. 0. 0. 0.]\n",
            " [7. 0. 0. 0. 0. 0. 0.]]\n",
            "---------\n",
            "5.0 5.0 6.0\n",
            "[[0. 1. 2. 3. 4. 5. 6.]\n",
            " [1. 1. 2. 3. 4. 5. 6.]\n",
            " [2. 2. 2. 3. 4. 4. 5.]\n",
            " [3. 3. 3. 3. 4. 5. 5.]\n",
            " [4. 4. 4. 4. 4. 5. 6.]\n",
            " [5. 5. 5. 0. 0. 0. 0.]\n",
            " [6. 0. 0. 0. 0. 0. 0.]\n",
            " [7. 0. 0. 0. 0. 0. 0.]]\n",
            "---------\n",
            "5.0 4.0 6.0\n",
            "[[0. 1. 2. 3. 4. 5. 6.]\n",
            " [1. 1. 2. 3. 4. 5. 6.]\n",
            " [2. 2. 2. 3. 4. 4. 5.]\n",
            " [3. 3. 3. 3. 4. 5. 5.]\n",
            " [4. 4. 4. 4. 4. 5. 6.]\n",
            " [5. 5. 5. 4. 0. 0. 0.]\n",
            " [6. 0. 0. 0. 0. 0. 0.]\n",
            " [7. 0. 0. 0. 0. 0. 0.]]\n",
            "---------\n",
            "5.0 5.0 5.0\n",
            "[[0. 1. 2. 3. 4. 5. 6.]\n",
            " [1. 1. 2. 3. 4. 5. 6.]\n",
            " [2. 2. 2. 3. 4. 4. 5.]\n",
            " [3. 3. 3. 3. 4. 5. 5.]\n",
            " [4. 4. 4. 4. 4. 5. 6.]\n",
            " [5. 5. 5. 4. 5. 0. 0.]\n",
            " [6. 0. 0. 0. 0. 0. 0.]\n",
            " [7. 0. 0. 0. 0. 0. 0.]]\n",
            "---------\n",
            "6.0 5.0 6.0\n",
            "[[0. 1. 2. 3. 4. 5. 6.]\n",
            " [1. 1. 2. 3. 4. 5. 6.]\n",
            " [2. 2. 2. 3. 4. 4. 5.]\n",
            " [3. 3. 3. 3. 4. 5. 5.]\n",
            " [4. 4. 4. 4. 4. 5. 6.]\n",
            " [5. 5. 5. 4. 5. 5. 0.]\n",
            " [6. 0. 0. 0. 0. 0. 0.]\n",
            " [7. 0. 0. 0. 0. 0. 0.]]\n",
            "---------\n",
            "7.0 6.0 6.0\n",
            "[[0. 1. 2. 3. 4. 5. 6.]\n",
            " [1. 1. 2. 3. 4. 5. 6.]\n",
            " [2. 2. 2. 3. 4. 4. 5.]\n",
            " [3. 3. 3. 3. 4. 5. 5.]\n",
            " [4. 4. 4. 4. 4. 5. 6.]\n",
            " [5. 5. 5. 4. 5. 5. 6.]\n",
            " [6. 0. 0. 0. 0. 0. 0.]\n",
            " [7. 0. 0. 0. 0. 0. 0.]]\n",
            "---------\n",
            "6.0 6.0 7.0\n",
            "[[0. 1. 2. 3. 4. 5. 6.]\n",
            " [1. 1. 2. 3. 4. 5. 6.]\n",
            " [2. 2. 2. 3. 4. 4. 5.]\n",
            " [3. 3. 3. 3. 4. 5. 5.]\n",
            " [4. 4. 4. 4. 4. 5. 6.]\n",
            " [5. 5. 5. 4. 5. 5. 6.]\n",
            " [6. 6. 0. 0. 0. 0. 0.]\n",
            " [7. 0. 0. 0. 0. 0. 0.]]\n",
            "---------\n",
            "6.0 6.0 7.0\n",
            "[[0. 1. 2. 3. 4. 5. 6.]\n",
            " [1. 1. 2. 3. 4. 5. 6.]\n",
            " [2. 2. 2. 3. 4. 4. 5.]\n",
            " [3. 3. 3. 3. 4. 5. 5.]\n",
            " [4. 4. 4. 4. 4. 5. 6.]\n",
            " [5. 5. 5. 4. 5. 5. 6.]\n",
            " [6. 6. 6. 0. 0. 0. 0.]\n",
            " [7. 0. 0. 0. 0. 0. 0.]]\n",
            "---------\n",
            "5.0 6.0 7.0\n",
            "[[0. 1. 2. 3. 4. 5. 6.]\n",
            " [1. 1. 2. 3. 4. 5. 6.]\n",
            " [2. 2. 2. 3. 4. 4. 5.]\n",
            " [3. 3. 3. 3. 4. 5. 5.]\n",
            " [4. 4. 4. 4. 4. 5. 6.]\n",
            " [5. 5. 5. 4. 5. 5. 6.]\n",
            " [6. 6. 6. 5. 0. 0. 0.]\n",
            " [7. 0. 0. 0. 0. 0. 0.]]\n",
            "---------\n",
            "6.0 5.0 6.0\n",
            "[[0. 1. 2. 3. 4. 5. 6.]\n",
            " [1. 1. 2. 3. 4. 5. 6.]\n",
            " [2. 2. 2. 3. 4. 4. 5.]\n",
            " [3. 3. 3. 3. 4. 5. 5.]\n",
            " [4. 4. 4. 4. 4. 5. 6.]\n",
            " [5. 5. 5. 4. 5. 5. 6.]\n",
            " [6. 6. 6. 5. 5. 0. 0.]\n",
            " [7. 0. 0. 0. 0. 0. 0.]]\n",
            "---------\n",
            "6.0 6.0 6.0\n",
            "[[0. 1. 2. 3. 4. 5. 6.]\n",
            " [1. 1. 2. 3. 4. 5. 6.]\n",
            " [2. 2. 2. 3. 4. 4. 5.]\n",
            " [3. 3. 3. 3. 4. 5. 5.]\n",
            " [4. 4. 4. 4. 4. 5. 6.]\n",
            " [5. 5. 5. 4. 5. 5. 6.]\n",
            " [6. 6. 6. 5. 5. 6. 0.]\n",
            " [7. 0. 0. 0. 0. 0. 0.]]\n",
            "---------\n",
            "7.0 6.0 7.0\n",
            "[[0. 1. 2. 3. 4. 5. 6.]\n",
            " [1. 1. 2. 3. 4. 5. 6.]\n",
            " [2. 2. 2. 3. 4. 4. 5.]\n",
            " [3. 3. 3. 3. 4. 5. 5.]\n",
            " [4. 4. 4. 4. 4. 5. 6.]\n",
            " [5. 5. 5. 4. 5. 5. 6.]\n",
            " [6. 6. 6. 5. 5. 6. 6.]\n",
            " [7. 0. 0. 0. 0. 0. 0.]]\n",
            "---------\n",
            "7.0 7.0 8.0\n",
            "[[0. 1. 2. 3. 4. 5. 6.]\n",
            " [1. 1. 2. 3. 4. 5. 6.]\n",
            " [2. 2. 2. 3. 4. 4. 5.]\n",
            " [3. 3. 3. 3. 4. 5. 5.]\n",
            " [4. 4. 4. 4. 4. 5. 6.]\n",
            " [5. 5. 5. 4. 5. 5. 6.]\n",
            " [6. 6. 6. 5. 5. 6. 6.]\n",
            " [7. 7. 0. 0. 0. 0. 0.]]\n",
            "---------\n",
            "7.0 7.0 8.0\n",
            "[[0. 1. 2. 3. 4. 5. 6.]\n",
            " [1. 1. 2. 3. 4. 5. 6.]\n",
            " [2. 2. 2. 3. 4. 4. 5.]\n",
            " [3. 3. 3. 3. 4. 5. 5.]\n",
            " [4. 4. 4. 4. 4. 5. 6.]\n",
            " [5. 5. 5. 4. 5. 5. 6.]\n",
            " [6. 6. 6. 5. 5. 6. 6.]\n",
            " [7. 7. 7. 0. 0. 0. 0.]]\n",
            "---------\n",
            "6.0 7.0 8.0\n",
            "[[0. 1. 2. 3. 4. 5. 6.]\n",
            " [1. 1. 2. 3. 4. 5. 6.]\n",
            " [2. 2. 2. 3. 4. 4. 5.]\n",
            " [3. 3. 3. 3. 4. 5. 5.]\n",
            " [4. 4. 4. 4. 4. 5. 6.]\n",
            " [5. 5. 5. 4. 5. 5. 6.]\n",
            " [6. 6. 6. 5. 5. 6. 6.]\n",
            " [7. 7. 7. 6. 0. 0. 0.]]\n",
            "---------\n",
            "6.0 6.0 7.0\n",
            "[[0. 1. 2. 3. 4. 5. 6.]\n",
            " [1. 1. 2. 3. 4. 5. 6.]\n",
            " [2. 2. 2. 3. 4. 4. 5.]\n",
            " [3. 3. 3. 3. 4. 5. 5.]\n",
            " [4. 4. 4. 4. 4. 5. 6.]\n",
            " [5. 5. 5. 4. 5. 5. 6.]\n",
            " [6. 6. 6. 5. 5. 6. 6.]\n",
            " [7. 7. 7. 6. 6. 0. 0.]]\n",
            "---------\n",
            "7.0 5.0 7.0\n",
            "[[0. 1. 2. 3. 4. 5. 6.]\n",
            " [1. 1. 2. 3. 4. 5. 6.]\n",
            " [2. 2. 2. 3. 4. 4. 5.]\n",
            " [3. 3. 3. 3. 4. 5. 5.]\n",
            " [4. 4. 4. 4. 4. 5. 6.]\n",
            " [5. 5. 5. 4. 5. 5. 6.]\n",
            " [6. 6. 6. 5. 5. 6. 6.]\n",
            " [7. 7. 7. 6. 6. 5. 0.]]\n",
            "---------\n",
            "7.0 7.0 6.0\n",
            "[[0. 1. 2. 3. 4. 5. 6.]\n",
            " [1. 1. 2. 3. 4. 5. 6.]\n",
            " [2. 2. 2. 3. 4. 4. 5.]\n",
            " [3. 3. 3. 3. 4. 5. 5.]\n",
            " [4. 4. 4. 4. 4. 5. 6.]\n",
            " [5. 5. 5. 4. 5. 5. 6.]\n",
            " [6. 6. 6. 5. 5. 6. 6.]\n",
            " [7. 7. 7. 6. 6. 5. 6.]]\n",
            "---------\n",
            "[[0. 1. 2. 3. 4. 5. 6.]\n",
            " [1. 1. 2. 3. 4. 5. 6.]\n",
            " [2. 2. 2. 3. 4. 4. 5.]\n",
            " [3. 3. 3. 3. 4. 5. 5.]\n",
            " [4. 4. 4. 4. 4. 5. 6.]\n",
            " [5. 5. 5. 4. 5. 5. 6.]\n",
            " [6. 6. 6. 5. 5. 6. 6.]\n",
            " [7. 7. 7. 6. 6. 5. 6.]]\n"
          ]
        },
        {
          "output_type": "execute_result",
          "data": {
            "text/plain": [
              "6.0"
            ]
          },
          "metadata": {},
          "execution_count": 9
        }
      ],
      "source": [
        "levenshtein('Roberto','Carlos')"
      ],
      "id": "1050df65"
    },
    {
      "cell_type": "code",
      "execution_count": null,
      "metadata": {
        "id": "7401066e"
      },
      "outputs": [],
      "source": [],
      "id": "7401066e"
    },
    {
      "cell_type": "code",
      "execution_count": null,
      "metadata": {
        "id": "a9f12038"
      },
      "outputs": [],
      "source": [],
      "id": "a9f12038"
    }
  ],
  "metadata": {
    "colab": {
      "collapsed_sections": [
        "80391002"
      ],
      "provenance": [],
      "include_colab_link": true
    },
    "kernelspec": {
      "display_name": "Python 3 (ipykernel)",
      "language": "python",
      "name": "python3"
    },
    "language_info": {
      "codemirror_mode": {
        "name": "ipython",
        "version": 3
      },
      "file_extension": ".py",
      "mimetype": "text/x-python",
      "name": "python",
      "nbconvert_exporter": "python",
      "pygments_lexer": "ipython3",
      "version": "3.8.12"
    }
  },
  "nbformat": 4,
  "nbformat_minor": 5
}