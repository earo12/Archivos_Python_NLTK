{
  "cells": [
    {
      "cell_type": "markdown",
      "metadata": {
        "id": "view-in-github",
        "colab_type": "text"
      },
      "source": [
        "<a href=\"https://colab.research.google.com/github/earo12/Archivos_Python_NLTK/blob/master/Tarea1.ipynb\" target=\"_parent\"><img src=\"https://colab.research.google.com/assets/colab-badge.svg\" alt=\"Open In Colab\"/></a>"
      ]
    },
    {
      "cell_type": "markdown",
      "metadata": {
        "id": "08kXO2Zo5U-A"
      },
      "source": [
        "# Alumno: Eduardo Adriel Romero Obispo\n",
        "## Tarea 1"
      ]
    },
    {
      "cell_type": "markdown",
      "metadata": {
        "id": "NRIqs0VY5U-O"
      },
      "source": [
        "## Ejercicio 1\n",
        "La superficie de la Tierra es curva y por tanto la distancia entre los grados de la mista longitud varía con latitud. En consecuencia la distancia entre dos puntos cuales quiera sobre la superficie de la Tierra es más complicado que simplemente utilizar el teorema de Pitágoras.\n",
        "\n",
        "Sean $(t_1, g_1)$ y $(t_2, g_2)$ las latitudes y longitudes de dos puntos sobre la superficie de la tierra. La distancia entre estos puntos se puede calcular utilizando la siguiente expresión:\n",
        "$$\n",
        "Distancia = 6371.01 arccos(sin t_1 sin t_2 + cost_1 cost_2 cos(g_1 − g_2))\n",
        "$$\n",
        "Crea un programa que permita al usuario introducir las latitudes y longitudes\n",
        "de dos puntos sobre la Tierra en grados. Tu programa de mostrar la distancia\n",
        "entre estos puntos en kilometros. Ojo la ecuación 1 solo funciona en radianes,\n",
        "por lo que es necesario que conviertas los grados de las latitudes y longitudes a\n",
        "radianes."
      ]
    },
    {
      "cell_type": "code",
      "execution_count": null,
      "metadata": {
        "id": "d7LDua2J5U-R"
      },
      "outputs": [],
      "source": [
        "# primero importamos de una libreria que nos permita escribir las funciones arccos, seno y coseno y el valor de pi, la libreria es math\n",
        "import math "
      ]
    },
    {
      "cell_type": "code",
      "execution_count": null,
      "metadata": {
        "id": "D5WdT2bk5U-W",
        "outputId": "50e7358b-004a-402c-c5b0-e4b674032173"
      },
      "outputs": [
        {
          "name": "stdout",
          "output_type": "stream",
          "text": [
            "Programa que calcula la distancia entre dos puntos sobre la Tierra...\n",
            "Introduce la primera latitud, asegúrate de introducir valores mayores o iguales a cero : 14\n",
            "Introduce la segunda latitud, asegúrate de introducir valores mayores o iguales a cero : 53\n",
            "Introduce la primera longitud, asegúrate de introducir valores mayores o iguales a cero : -2\n",
            "Introduce la segunda longitud, asegúrate de introducir valores mayores o iguales a cero : 34\n",
            "Introduciste un valor no válido, reinicia el programa y asegúrate de introducir todos los valores mayores o iguales a cero: \n"
          ]
        }
      ],
      "source": [
        "print('Programa que calcula la distancia entre dos puntos sobre la Tierra...')\n",
        "t1 = float(input('Introduce la primera latitud, asegúrate de introducir valores mayores o iguales a cero : ')) #introducimos valores pedidos al usuario\n",
        "t2 = float(input('Introduce la segunda latitud, asegúrate de introducir valores mayores o iguales a cero : ')) \n",
        "g1 = float(input('Introduce la primera longitud, asegúrate de introducir valores mayores o iguales a cero : ')) \n",
        "g2 = float(input('Introduce la segunda longitud, asegúrate de introducir valores mayores o iguales a cero : ')) \n",
        "\n",
        "#si por alguna razón, el usuario introdujo una distancia negativa (algo que no tiene sentido físico), el programa marcará el siguiente mensaje\n",
        "if t1 < 0  or t2 < 0 or g1 < 0  or g2 < 0:\n",
        "    print('Introduciste un valor no válido, reinicia el programa y asegúrate de introducir todos los valores mayores o iguales a cero: ')\n",
        "else: # si por el contrario introdujo todos los valores mayores o iguales se procede a transformar los grados a radianes\n",
        "    t1_ = t1 * math.pi / 180\n",
        "    t2_ = t2 * math.pi / 180\n",
        "    g1_ = g1 * math.pi / 180\n",
        "    g2_ = g2 * math.pi / 180\n",
        "    distancia = 6371.01*math.acos(math.sin(t1_) * math.sin(t2_) + math.cos(t1_)* math.cos(t2_) - math.cos(g1_ - g2_)) #aplicamos la fórmula de arriba\n",
        "    print(f'La distancia entre los puntos que introduciste es: {distancia}') # finalmente escribe la distancia"
      ]
    },
    {
      "cell_type": "markdown",
      "metadata": {
        "id": "KGY_WbSo5U-b"
      },
      "source": [
        "## Ejercicio 2\n",
        "Escribe un programa que inicie leyendo una medida en pies, de parte del usuario.\n",
        "Posteriormente el programa debe mostrar la distancia equivalenete en pulgadas,\n",
        "yardas, millas, centímetros, metros y kilómetros."
      ]
    },
    {
      "cell_type": "code",
      "execution_count": null,
      "metadata": {
        "scrolled": false,
        "id": "SJQjXYuz5U-c",
        "outputId": "87ac3238-f918-4f4d-ae6b-c7505e082bdb"
      },
      "outputs": [
        {
          "name": "stdout",
          "output_type": "stream",
          "text": [
            "Programa que calcula la distancia de pias a pulgadas, yardas, millas, centímetros, metros y kilómetros...\n",
            "Introduce un valor de distancia en pies, asegúrate de introducir un valor mayor o igual a cero: -13\n",
            "Por favor reinicia el programa y escribe un valor de distancia postivo.\n"
          ]
        }
      ],
      "source": [
        "print('Programa que calcula la distancia de pias a pulgadas, yardas, millas, centímetros, metros y kilómetros...')\n",
        "valor = float(input('Introduce un valor de distancia en pies, asegúrate de introducir un valor mayor o igual a cero: '))\n",
        "# las siguientes formulas fueron consultadas en Google el día 27 de agosto de 2022:\n",
        "if valor >= 0: # el valor debe ser mayor a cero para tener sentido físico\n",
        "    pulgadas = valor * 12 \n",
        "    yardas = valor / 3\n",
        "    millas = valor / 5280\n",
        "    centimetros = valor * 30.48\n",
        "    metros = valor / 3.281\n",
        "    kilometros = valor / 3281\n",
        "    #imprimimos el valor de nuestras variables definidas con un f-string:\n",
        "    print(f'El valor de la distancia en pies que ingresaste {valor} son: ')\n",
        "    print(f'{pulgadas} pulgadas')\n",
        "    print(f'{yardas} yardas')\n",
        "    print(f'{millas} millas')\n",
        "    print(f'{centimetros} centimetros')\n",
        "    print(f'{metros} metros')\n",
        "    print(f'{kilometros} kilómetros')\n",
        "else: #en caso de que el usuario coloque un valor negativo, manda este mensaje\n",
        "    print('Por favor reinicia el programa y escribe un valor de distancia mayor o igual a cero.')"
      ]
    },
    {
      "cell_type": "markdown",
      "metadata": {
        "id": "5SnvArGa5U-i"
      },
      "source": [
        "## Ejercicio 3 \n",
        "Desarrolla un programa que inicie leyendo un número en segundos de parte del usuario. Luego tu programa deberá mostrar la cantidad equivalente de tiempo en el formato D:HH:MM:SS, donde D, HH, MM y SS representa días, horas, minutos y segundos respectivamente. Las horas, minutos y segundo deben tener que ocupar exactamente dos dígitos, iniciando con cero si es necesario. Por ejemplo:\n",
        "$$\n",
        "6 : 06 : 57 : 05\n",
        "$$\n",
        "está representando 6 días, 6 horas, 57 minutos y 5 segundos."
      ]
    },
    {
      "cell_type": "code",
      "execution_count": null,
      "metadata": {
        "id": "zZrLCXWR5U-k",
        "outputId": "d7f33419-db23-419b-fb0c-065c0732612b"
      },
      "outputs": [
        {
          "name": "stdout",
          "output_type": "stream",
          "text": [
            "programa que convierte segundos a horas\n",
            "Introduce un valor en segundos, asegúrate de introducir un valor mayor o igual a cero: 2131341\n",
            "24 : 16 : 02 : 21\n"
          ]
        }
      ],
      "source": [
        "print('programa que convierte segundos a horas')\n",
        "segs = float(input('Introduce un valor en segundos, asegúrate de introducir un valor mayor o igual a cero: '))\n",
        "if segs >= 0 :\n",
        "    dias = segs // 86400 # esto me asegurará solo devolver la parte entera de los días\n",
        "    segs = segs % 86400 # mientras que el calcular el modulo hará que solamente me quede con el residuo para el siguiente caso de horas\n",
        "    horas = segs // 3600 # lo mismo para horas\n",
        "    segs = segs % 3600 # y repetimos el algoritmo\n",
        "    minutos = segs // 60 \n",
        "    segs = segs % 60\n",
        "    segundos = segs\n",
        "    print('%02d : %02d : %02d : %02d'%(dias, horas, minutos, segundos))  #para que me impriman ceros, se utiliza %02d con ello si un numero es menor a 10 se estará imprimiendo un cero a la izquierda\n",
        "    #print(f'{dias:02d}:{horas:02d}:{minutos:02d}:{segundos:02d}')\n",
        "else:\n",
        "    print('Reinicia el programa y asegúrate de introducir un valor mayor o igual a cero.')"
      ]
    },
    {
      "cell_type": "markdown",
      "metadata": {
        "id": "CmfIvKvJ5U-m"
      },
      "source": [
        "## Ejercicio 4\n",
        "Crea un programa que lee 5 enteros y muestra a estos números ordenados de menor a mayor. No se puede utilizar ningún método prediseñado en python para ordenar."
      ]
    },
    {
      "cell_type": "code",
      "execution_count": null,
      "metadata": {
        "id": "ug-4Q7CE5U-n",
        "outputId": "a313efc5-fc80-46b4-f051-8013b75ccf99"
      },
      "outputs": [
        {
          "name": "stdout",
          "output_type": "stream",
          "text": [
            "Programa que ordena enteros de menor a mayor\n",
            "Introduce el primer número entero por favor: 134\n",
            "Introduce el segundo número entero por favor: 13451\n",
            "Introduce el tercer número entero por favor: 2\n",
            "Introduce el cuarto número entero por favor: -45\n",
            "Introduce el quinto número entero por favor: 2345\n",
            "[-45, 2, 134, 2345, 13451]\n"
          ]
        }
      ],
      "source": [
        "print('Programa que ordena enteros de menor a mayor')\n",
        "n1 = int(input('Introduce el primer número entero por favor: '))\n",
        "n2 = int(input('Introduce el segundo número entero por favor: '))\n",
        "n3 = int(input('Introduce el tercer número entero por favor: '))\n",
        "n4 = int(input('Introduce el cuarto número entero por favor: '))\n",
        "n5 = int(input('Introduce el quinto número entero por favor: '))\n",
        "lista = [n1, n2, n3, n4, n5] # introducimos los elementos en una lista\n",
        "for i in range(len(lista)):\n",
        "    for j in range(i + 1, len(lista)): # el i + 1 es porque se compara el elemento posterior al elemento anterior a éste\n",
        "        if lista[i] > lista[j]: # con un doble for iteramos elemento a elemento y si en particular el i-esimo es mayor \n",
        "            lista[i],lista[j] = lista[j], lista[i] # los ordena de menor a mayor\n",
        "print(lista)"
      ]
    },
    {
      "cell_type": "markdown",
      "metadata": {
        "id": "q5_BPC3n5U-p"
      },
      "source": [
        "## Ejercicio 5 \n",
        "Se suele decir que un año es equivalente a 7 años perro (esto se refiere a que en el transcurso de un año normal, el proceso biológico de crecimiento de un perro es el equivalente al crecimiento biológico de 7 años para el humano). Sin\n",
        "embargo, esta simple conversión falla al darnos cuenta que la adultez de un perro la alcanza en aproximadamente dos años. Como resultado a esto, algunas personas creen que es mejor contar los primeros dos años de crecimiento como lo equivalente a 10.5 años perro (por cada año), y los años subsecuentes equivalen a 4 años perro. \n",
        "\n",
        "Escribe un programa que implemente la conversión entre los años y los años perro que se describió en el parrafo anterior. Aseguramente que el programa funciona correctamente para conversiones menores a dos años y para conversiones por encima de dos años. El programa debe mostrar un mensaje de error cuando se ingresa números negativos."
      ]
    },
    {
      "cell_type": "code",
      "execution_count": null,
      "metadata": {
        "id": "7oPbl6w25U-q",
        "outputId": "e80aea55-2cc2-4739-bf63-b33e44eaed71"
      },
      "outputs": [
        {
          "name": "stdout",
          "output_type": "stream",
          "text": [
            "Programa que convierte años humano a años perro\n",
            "Introduce la cantidad de años humanos que quieras convertir a años perro: 3\n",
            "La edad humano para 3.0 años humanos en este caso sería 43.5 años perros\n"
          ]
        }
      ],
      "source": [
        "print('Programa que convierte años humano a años perro')\n",
        "a_humano = float(input('Introduce la cantidad de años humanos que quieras convertir a años perro: '))\n",
        "if a_humano < 0:\n",
        "    print('********ERRROR********, introdujo una edad negativa, reinicie el programa y asegúrese de ingresar un numero mayor o igual a cero')\n",
        "if a_humano >= 0 and a_humano <= 2: # segun entendí, si un perro tiene 2 o menos años, sería como si tuviera 10.5 veces la edad de un humano\n",
        "    a_perro = a_humano * 10.5\n",
        "    print(f'La edad perro para {a_humano} años humanos en este caso sería {a_perro1} años perros')\n",
        "if a_humano > 2:\n",
        "    a_perro =a_humano*14.5 # si por el contrario tiene más de 2 años tendría 4 veces su edad, más la edad que ya tenía con los 2 años anteriores es decir 14.5 veces su edad\n",
        "    print(f'La edad humano para {a_humano} años humanos en este caso sería {a_perro} años perros')"
      ]
    },
    {
      "cell_type": "markdown",
      "metadata": {
        "id": "MMWhI_rN5U-t"
      },
      "source": [
        "## Ejercicio 6\n",
        "Escribe un programa que calcule las raices de una función cuadrática. Tu programa debe iniciar pidiendo al usuario los valores de a,b y c de la función:\n",
        "$$\n",
        "f(x) = ax^2 + bx + c \\dots (2)\n",
        "$$\n",
        "y posteriormente mostrar las raices de la ecuación. Además tiene que mostrar EXPLÍCITAMENTE CON UN TEXTO si las raices son reales o complejas."
      ]
    },
    {
      "cell_type": "code",
      "execution_count": null,
      "metadata": {
        "id": "kBTc3nom5U-y",
        "outputId": "1b362099-7883-4d8b-b1ed-9b867e20b183"
      },
      "outputs": [
        {
          "name": "stdout",
          "output_type": "stream",
          "text": [
            "Programa que calcula raíces de una función cuadrática\n",
            "Introduce el valor a, asegúrate de introducir un valor distinto de cero: 3\n",
            "Introduce el valor b: 21\n",
            "Introduce el valor c: 1\n",
            "LA FUNCIÓN CUADRÁTICA TIENE RAÍCES REALES\n",
            "Las soluciones son -0.04794747046533665 y -6.952052529534664\n"
          ]
        }
      ],
      "source": [
        "print('Programa que calcula raíces de una función cuadrática')\n",
        "a = float(input('Introduce el valor a, asegúrate de introducir un valor distinto de cero: '))\n",
        "b  = float(input('Introduce el valor b: '))\n",
        "c = float(input('Introduce el valor c: '))\n",
        "discriminante = b**2 - 4*a*c\n",
        "#sol1 = (-b + np.sqrt(discriminante)) / (2*a)\n",
        "#sol2 = (-b - np.sqrt(discriminante)) / (2*a)\n",
        "if discriminante < 0:\n",
        "    print('LA FUNCIÓN CUADRÁTICA TIENE RAÍCES COMPLEJAS')\n",
        "elif discriminante == 0:\n",
        "    print('SOLO HAY UNA SOLUCIÓN REAL')\n",
        "    sol1 = (-b + math.sqrt(discriminante)) / (2*a)\n",
        "    sol2 = (-b - math.sqrt(discriminante)) / (2*a)\n",
        "    sol1 = sol2\n",
        "    print(f'La solución es: {sol1}')\n",
        "else:\n",
        "    print('LA FUNCIÓN CUADRÁTICA TIENE RAÍCES REALES')\n",
        "    sol1 = (-b + math.sqrt(discriminante)) / (2*a)\n",
        "    sol2 = (-b - math.sqrt(discriminante)) / (2*a)\n",
        "    print(f'Las soluciones son {sol1} y {sol2}')"
      ]
    },
    {
      "cell_type": "markdown",
      "metadata": {
        "id": "iTTghU-_5U-0"
      },
      "source": [
        "## Ejercicio 7 \n",
        "Dada un colección de n números (int o float), crea un programa que calcule el promedio de esta colección."
      ]
    },
    {
      "cell_type": "code",
      "execution_count": null,
      "metadata": {
        "id": "Qcdfm97p5U-1",
        "outputId": "0ecae9f2-7a93-48da-f12b-fb8dfef88f85"
      },
      "outputs": [
        {
          "name": "stdout",
          "output_type": "stream",
          "text": [
            "Introduce el número de elementos de la colección, asegúrate de introducir un valor entero mayor a cero: 5\n",
            "Introduce los elementos de la colección, pueden ser valores enteros o flotantes: 1.1\n",
            "Introduce los elementos de la colección, pueden ser valores enteros o flotantes: 32.4\n",
            "Introduce los elementos de la colección, pueden ser valores enteros o flotantes: 42.6\n",
            "Introduce los elementos de la colección, pueden ser valores enteros o flotantes: 23.98\n",
            "Introduce los elementos de la colección, pueden ser valores enteros o flotantes: 24.45\n",
            "El promedio de la colección es: 24.906\n"
          ]
        }
      ],
      "source": [
        "lista = []\n",
        "n = int(input('Introduce el número de elementos de la colección, asegúrate de introducir un valor entero mayor a cero: '))\n",
        "if n > 0:\n",
        "    for valor in range(0,n):\n",
        "        elementos = float(input('Introduce los elementos de la colección, pueden ser valores enteros o flotantes: '))\n",
        "        lista.append(elementos)\n",
        "else:\n",
        "    print('Por favor reinicia el programa y asegúrate de introducir un número de elementos mayor a cero')\n",
        "promedio = sum(lista)/len(lista)\n",
        "print(f'El promedio de la colección es: {promedio}')"
      ]
    },
    {
      "cell_type": "markdown",
      "metadata": {
        "id": "CylBJuGT5U-5"
      },
      "source": [
        "## Ejercicio 8\n",
        "Construye un programa que convierte un número en base 10 a otro en base 3.\n",
        "Esto es:\n",
        "\n",
        "$$0 → 0$$\n",
        "$$1 → 1$$\n",
        "$$2 → 2$$\n",
        "$$3 → 10$$\n",
        "$$4 → 11$$\n",
        "$$5 → 12$$\n",
        "$$6 → 20$$\n",
        "$$7 → 21$$\n",
        "$$8 → 22$$\n",
        "$$9 → 100$$\n",
        "$$10 → 101$$\n"
      ]
    },
    {
      "cell_type": "code",
      "execution_count": null,
      "metadata": {
        "id": "S_XRxSzK5U-6",
        "outputId": "63e6b6f2-0bea-483e-8c4e-85038d34f417"
      },
      "outputs": [
        {
          "name": "stdout",
          "output_type": "stream",
          "text": [
            "Introduce un número entero mayor a cero: 7\n",
            "Tu numero en esta base es 21\n"
          ]
        }
      ],
      "source": [
        "entero = int(input('Introduce un número entero mayor a cero: '))\n",
        "if entero < 0:\n",
        "    print('No es posible convertir el valor, reincia el programa')\n",
        "else: \n",
        "    if entero == 0:\n",
        "        print(f'Tu número en esta base es {entero}') # caso particular de numero = 0\n",
        "    numeros = [] #para que se almacene un numero distinto de cero creamos una lista \n",
        "    while entero: # mientras se tenga esos numeros iteramos dígito a dígito\n",
        "        entero, valor_final = divmod(entero, 3) # divmod lo que me hace es almacenar el residuo y el cociente\n",
        "        numeros.append(str(valor_final)) # luego almacenamos esos resultados como una cadena de caracteres para que no sea lista\n",
        "numero = ''.join(reversed(numeros)) # y finalmente los ordenamos al revés  \n",
        "print(f'Tu numero en esta base es {numero}')"
      ]
    },
    {
      "cell_type": "markdown",
      "metadata": {
        "id": "oltV1poj5U-7"
      },
      "source": [
        "## Ejercicio 9\n",
        "El valor de π puede aproximarse por la siguiente serie infinita:\n",
        "$$\n",
        "π ≈ 3 +\n",
        "4\n",
        "2 × 3 × 4\n",
        "−\n",
        "4\n",
        "4 × 5 × 6\n",
        "+\n",
        "4\n",
        "6 × 7 × 8\n",
        "−\n",
        "4\n",
        "8 × 9 × 10\n",
        "+\n",
        "4\n",
        "10 × 11 × 12\n",
        "$$\n",
        "Escribe un programa que muestre la n−ésima aproximación; esto significa\n",
        "que tomes los primeros n sumandos y los sumes."
      ]
    },
    {
      "cell_type": "code",
      "execution_count": null,
      "metadata": {
        "id": "SDSPwl195U-8",
        "outputId": "0ce61fea-6c19-4a25-f00c-d1bcc7704b1a"
      },
      "outputs": [
        {
          "name": "stdout",
          "output_type": "stream",
          "text": [
            "Introduce el número de iteraciones, asegúrate de dar un número entero mayor a cero: 1000\n",
            "La aproximación con k = 1000 iteraciones es: 3.141592653340544\n"
          ]
        }
      ],
      "source": [
        "n = 2 # el primer elemento de la serie después del 3 es n = 2, luego n = n+1 = 3, y después n = n+2 = 4 \n",
        "signo = 1 # el signo es el que cambiará según el elemento de la serie\n",
        "k = int(input('Introduce el número de iteraciones, asegúrate de dar un número entero mayor a cero: ')) #numero de iteraciones\n",
        "if k < 0 : \n",
        "    print('Reincia el programa e introduce un número entero mayor a cero')\n",
        "else:    \n",
        "    a = 3 # el valor inicial se coloca antes del for ya que si lo coloco dentro de este, no estará aumentándose en valor y con cada iteración añadirá a si mismo el valor de 3 \n",
        "    for valor in range(0,k):\n",
        "        a = a + (signo * (4 /(n*(n + 1)*(n + 2)))) #expresión general de la serie \n",
        "        signo = signo*(-1) # cambio de signo según sea el orden de iteración\n",
        "        n=n+2 # incremento en el valorr de n pues cuando n = 2 ahora tomará valor de 4 \n",
        "    print(f'La aproximación con k = {k} iteraciones es: {a}')"
      ]
    },
    {
      "cell_type": "markdown",
      "metadata": {
        "id": "OOjkfCqT5U--"
      },
      "source": [
        "# Ejercicio 10\n",
        "En python hay una paquetería que se llama random, ésta permite calcular\n",
        "números aleatorios entre -1 y 1. Con base en esto, primero crea una serie de comandos que genere n−pares\n",
        "ordenados de números aleatorios.\n",
        "\n",
        "(a1, b1),(a2, b2),(a3, b3),(a4, b4), . . . ,(an, bn)\n",
        "\n",
        "Estos pares ordenados se pueden pensar como puntos en el plano cartesiano.\n",
        "Por lo que posteriormente, calcule una forma de determinar cuántos de estos puntos se encuentran en el interior del círculo unitario centrado en el origen. Si\n",
        "denotamos como p a ése número, entonces una buena aproximación al número\n",
        "π es calculando el cociente de estos números:\n",
        "$$\n",
        "π ≈\n",
        "4p/\n",
        "n\n",
        "$$\n",
        "El programa que va a desarrollar consiste en que dado cualquier n se obtiene\n",
        "un aproximación a π, utilice todo lo anterior para lograrlo.\n",
        "\n",
        "La calificación de este ejercicio dependerá del número de líneas que se es-\n",
        "criban. El alumno que lo escriba con menos líneas obtendrá los 2 pts, el segundo\n",
        "\n",
        "lugar con menos líneas obtendrá 1.75 pts, el tercero obtendrá 1.5 pts, el cuarto\n",
        "\n",
        "obtendrá 1.25 pts, el quinto obtendrá 1 pts, el sexto obtendrá 0.75 pts, el sép-\n",
        "timo 0.5 pts y el resto obtendrá 0.25 pts. Si hay empate entre alguno de los\n",
        "\n",
        "primeros 7 lugares, se dividarán entre todos el número de puntos; esto quiere\n",
        "decir que si 8 alumnos están en el quinto lugar entonces el número de puntos\n",
        "que obtendrán estos 8 alumnos es de 0.125 pts cada uno."
      ]
    },
    {
      "cell_type": "code",
      "execution_count": null,
      "metadata": {
        "id": "ldMjSa9Q5U_C",
        "outputId": "418a7780-897a-4f60-873f-a58ef3270772"
      },
      "outputs": [
        {
          "name": "stdout",
          "output_type": "stream",
          "text": [
            "Introduce un valor para n, asegúrate de dar un valor entero mayor a cero: 10000000\n",
            "El valor de pi con 10000000 iteraciones es 3.1416436\n"
          ]
        }
      ],
      "source": [
        "import random # primero importamos la libreria\n",
        "n = int(input('Introduce un valor para n, asegúrate de dar un valor entero mayor a cero: '))  # asumo que el usuario introduce un valor mayor a cero\n",
        "p = 0  # p empieza en cero, ya que conforme cada iteración queremos que aumente en una unidad como lo veremos más adelante\n",
        "for i in range(n):\n",
        "    numero_1 = 2*random.random()-1 # sugerencia del problema \n",
        "    numero_2 = 2*random.random()-1\n",
        "    if numero_1 ** 2 + numero_2 ** 2 < 1: # condición para que los puntos estén dentro del círculo unitario dentro del primer cuadrante:\n",
        "        p = p + 1\n",
        "    PI = 4 * p / n # condición del problema \n",
        "print(f'El valor de pi con {n} iteraciones es {PI}')"
      ]
    },
    {
      "cell_type": "markdown",
      "metadata": {
        "id": "8FUioEBV5U_F"
      },
      "source": [
        "## Ejercicio 11\n",
        "En clase se hizo una aproximación del número e. Determine si es un buen\n",
        "método o no para aproximarse a este número. Si dice que sí es un buen método\n",
        "diga por qué, si no sugiera otro y compruebe que ese nuevo método es en efecto\n",
        "mejor."
      ]
    },
    {
      "cell_type": "code",
      "execution_count": null,
      "metadata": {
        "id": "lbGYhv2F5U_G",
        "outputId": "c2a922df-1512-44f5-84e5-a2c93345faea"
      },
      "outputs": [
        {
          "name": "stdout",
          "output_type": "stream",
          "text": [
            "Introduce el número de iteraciones: 10000\n",
            "2.7182818284590455\n"
          ]
        }
      ],
      "source": [
        "# Hay otra forma de aproximar euler a través de una serie, probémosla \n",
        "n = int(input('Introduce el número de iteraciones: '))\n",
        "suma=0  \n",
        "for i in range(0,n):   # este método es usar 1/0!+1/2!+1/3!+....\n",
        "    valor=1/math.factorial(i) #math nos ayuda con este último problema \n",
        "    suma = suma + valor  \n",
        "print(suma)  # al final imprimimos la el valor con las iteraciones que pedimos"
      ]
    },
    {
      "cell_type": "code",
      "execution_count": null,
      "metadata": {
        "id": "ocy3usok5U_H",
        "outputId": "860dd6c7-dc8d-49d3-eda9-2251b9ae19f8"
      },
      "outputs": [
        {
          "name": "stdout",
          "output_type": "stream",
          "text": [
            "5.135341227813228e-07\n"
          ]
        }
      ],
      "source": [
        "valor_inicial = 2.7182813149249223 # este fue el valor obtenido con el programa de la clase 6\n",
        "valor_real = 2.718281828459045235360 # este valor es el que uno puede encontrar en Wikipedia\n",
        "print(abs(valor_inicial-valor_real)) #imprimimos la diferencia que hay entre ambos"
      ]
    },
    {
      "cell_type": "code",
      "execution_count": null,
      "metadata": {
        "id": "QJgE6PCz5U_I",
        "outputId": "3f205dc6-201e-44bc-f606-8e4aa6783d57"
      },
      "outputs": [
        {
          "name": "stdout",
          "output_type": "stream",
          "text": [
            "4.440892098500626e-16\n"
          ]
        }
      ],
      "source": [
        "valor_final = 2.7182818284590455 # este valor es el que obtuvimos unas líneas atrás\n",
        "print(abs(valor_final-valor_real))"
      ]
    },
    {
      "cell_type": "markdown",
      "metadata": {
        "id": "2USlliNv5U_J"
      },
      "source": [
        "Como podemos ver,con apenas 10000 iteraciones (algo que en realidad no es muy grande computacionalmente hablando) pudimos hacer una diferencia mucho menor en cuanto al valor \"real\", además de que si aumentamos las iteraciones, el valor diferencia se hará más chico, que es lo que el problema está buscando, por lo que, efectivamente, hay más métodos para calcular el valor de euler "
      ]
    },
    {
      "cell_type": "code",
      "execution_count": null,
      "metadata": {
        "id": "srL7morx5U_J"
      },
      "outputs": [],
      "source": []
    }
  ],
  "metadata": {
    "kernelspec": {
      "display_name": "Python 3",
      "language": "python",
      "name": "python3"
    },
    "language_info": {
      "codemirror_mode": {
        "name": "ipython",
        "version": 3
      },
      "file_extension": ".py",
      "mimetype": "text/x-python",
      "name": "python",
      "nbconvert_exporter": "python",
      "pygments_lexer": "ipython3",
      "version": "3.7.3"
    },
    "colab": {
      "provenance": [],
      "include_colab_link": true
    }
  },
  "nbformat": 4,
  "nbformat_minor": 0
}