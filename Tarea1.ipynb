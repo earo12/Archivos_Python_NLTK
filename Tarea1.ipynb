{
 "cells": [
  {
   "attachments": {},
   "cell_type": "markdown",
   "metadata": {},
   "source": [
    "# Alumno: Eduardo Adriel Romero Obispo\n",
    "## Tarea 1"
   ]
  },
  {
   "attachments": {},
   "cell_type": "markdown",
   "metadata": {},
   "source": [
    "## Ejercicio 1\n",
    "La superficie de la Tierra es curva y por tanto la distancia entre los grados de la mista longitud varía con latitud. En consecuencia la distancia entre dos puntos cuales quiera sobre la superficie de la Tierra es más complicado que simplemente utilizar el teorema de Pitágoras.\n",
    "\n",
    "Sean $(t_1, g_1)$ y $(t_2, g_2)$ las latitudes y longitudes de dos puntos sobre la superficie de la tierra. La distancia entre estos puntos se puede calcular utilizando la siguiente expresión:\n",
    "$$\n",
    "Distancia = 6371.01 arccos(sin t_1 sin t_2 + cost_1 cost_2 cos(g_1 − g_2))\n",
    "$$\n",
    "Crea un programa que permita al usuario introducir las latitudes y longitudes\n",
    "de dos puntos sobre la Tierra en grados. Tu programa de mostrar la distancia\n",
    "entre estos puntos en kilometros. Ojo la ecuación 1 solo funciona en radianes,\n",
    "por lo que es necesario que conviertas los grados de las latitudes y longitudes a\n",
    "radianes."
   ]
  },
  {
   "cell_type": "code",
   "execution_count": null,
   "metadata": {
    "vscode": {
     "languageId": "plaintext"
    }
   },
   "outputs": [],
   "source": [
    "# primero importamos de una libreria que nos permita escribir las funciones arccos, seno y coseno y el valor de pi, la libreria es math\n",
    "import math "
   ]
  },
  {
   "cell_type": "code",
   "execution_count": null,
   "metadata": {
    "vscode": {
     "languageId": "plaintext"
    }
   },
   "outputs": [],
   "source": []
  }
 ],
 "metadata": {
  "language_info": {
   "name": "python"
  },
  "orig_nbformat": 4
 },
 "nbformat": 4,
 "nbformat_minor": 2
}
