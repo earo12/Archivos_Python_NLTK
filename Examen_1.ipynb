{
  "cells": [
    {
      "cell_type": "markdown",
      "metadata": {
        "id": "view-in-github",
        "colab_type": "text"
      },
      "source": [
        "<a href=\"https://colab.research.google.com/github/earo12/Practicas_NLP/blob/master/Examen_1.ipynb\" target=\"_parent\"><img src=\"https://colab.research.google.com/assets/colab-badge.svg\" alt=\"Open In Colab\"/></a>"
      ]
    },
    {
      "cell_type": "markdown",
      "metadata": {
        "id": "gf4F-MqkzLNF"
      },
      "source": [
        "## Alumno: Eduardo Adriel Romero Obispo\n",
        "## Examen 1"
      ]
    },
    {
      "cell_type": "markdown",
      "metadata": {
        "id": "kshogUdhzSLL"
      },
      "source": [
        "### Problema 1\n",
        "Hay N puntos (enumerados de 0 a N 􀀀 1) en un plano. Cada punto es de\n",
        "color rojo (’R’) o verde (’G’). El punto k-ésimo está ubicado en las coordenadas\n",
        "(X[k]; Y [k]) y su color es colors[k]. Ningún punto se encuentra en las\n",
        "coordenadas (0; 0).\n",
        "Queremos dibujar un círculo centrado en las coordenadas (0; 0), tal que\n",
        "el número de puntos rojos y verdes dentro del círculo sea igual. ¿Cuál es el\n",
        "número máximo de puntos que pueden se pueden encerrar por uno de estos\n",
        "círculos centrados en el origen? Tenga en cuenta que siempre es posible dibujar\n",
        "un círculo sin puntos en el interior.\n",
        "Este ejercicio consiste en escribir una función en python\n",
        "• def sol (X, Y , colors)\n",
        "tal que dados dos arreglos de enteros X, Y (de tamaño N) y una cadena colors,\n",
        "regresa un entero especificando el máximo número de puntos dentro de un círculo\n",
        "que contiene un número igual de puntos rojos y puntos verdes.\n",
        "El algoritmo debe cumplir las siguientes suposiciones:\n",
        "• N es un entero entre 1 y 100000;\n",
        "• Cada elemento de los arreglos X y Y es un entero dentro del intervalo\n",
        "cerrado [􀀀20000; 20000];\n",
        "• El string colors consiste en solo N caracteres “R” y/o “G”;\n",
        "• No hay puntos en el origen (0; 0).\n",
        "Ejemplo.\n",
        "Dado los arreglos X = [4, 0, 2,-2], Y = [4, 1, 2,-3] y colors = \"RGRR\" tu\n",
        "función debe regresar 2. El círculo contiene los puntos (0; 1) y (2; 2) pero no los\n",
        "puntos (-2;-3) y (4, 4).\n",
        "##Solución:\n"
      ]
    },
    {
      "cell_type": "markdown",
      "metadata": {
        "id": "TJHRWjoX8Piw"
      },
      "source": [
        "Según lo que entendí, primero declararemos N, esa N será la longitud tanto de X como de Y y al mismo tiempo, será el radio del círculo en el origen, después, tendríamos que declarar una variable llamada \"colors\" de la misma longitud que la N anterior con valores \"R\" o \"G\", luego para encontrar cada pareja de puntos, tendríamos que comparar el primer elemento de X con el primer elemento de Y y ese sería un vector, el segundo elemento de X con el segundo de Y y sería otro vector y así sucesivamente, cada vector tendrá que pasar una prueba, tal que si su norma es menor o igual que el valor de N, entonces estará en el círculo, si la norma de un vector es menor que N, será un punto verde, si la norma es igual que N será rojo, al igual que si la norma fuera mayor que N, al final debemos de retornar los puntos que cumplan la condición de norma menor o igual que N y esa sería la respuesta"
      ]
    },
    {
      "cell_type": "code",
      "execution_count": null,
      "metadata": {
        "colab": {
          "base_uri": "https://localhost:8080/"
        },
        "id": "XoViGAk22RGr",
        "outputId": "f34f4fa7-bbfa-45c5-87bd-f4946e9420e3"
      },
      "outputs": [
        {
          "name": "stdout",
          "output_type": "stream",
          "text": [
            "Introduce el valor para N, introduce un número entre 1 y 100000: 4\n"
          ]
        }
      ],
      "source": [
        "# Primero declaramos N e importamos librerias necesarias\n",
        "import numpy as np\n",
        "N = int(input('Introduce el valor para N, introduce un número entre 1 y 100000: '))"
      ]
    },
    {
      "cell_type": "code",
      "execution_count": null,
      "metadata": {
        "colab": {
          "base_uri": "https://localhost:8080/"
        },
        "id": "jLleAIMnzbyD",
        "outputId": "23b9ea28-dd31-4519-fc44-325e9852bcf1"
      },
      "outputs": [
        {
          "output_type": "stream",
          "name": "stdout",
          "text": [
            "Introduce la longitud de la lista X: 4\n",
            "Introduce los valores de la lista X: 4\n",
            "Introduce los valores de la lista X: 0\n",
            "Introduce los valores de la lista X: 2\n",
            "Introduce los valores de la lista X: -2\n",
            "X = [4, 0, 2, -2]\n"
          ]
        }
      ],
      "source": [
        "# Ahora declaramos a X e Y como listas vacías\n",
        "X = []\n",
        "n1 =  int(input('Introduce la longitud de la lista X: '))\n",
        "for i in range(0,n1):\n",
        "  elementos1 = int(input('Introduce los valores de la lista X: '))\n",
        "  X.append(elementos1)\n",
        "print(f'X = {X}')\n"
      ]
    },
    {
      "cell_type": "code",
      "execution_count": null,
      "metadata": {
        "colab": {
          "base_uri": "https://localhost:8080/"
        },
        "id": "vthDkSnL0RtM",
        "outputId": "b906e079-e7d5-4ea2-babc-bca15b903322"
      },
      "outputs": [
        {
          "output_type": "stream",
          "name": "stdout",
          "text": [
            "Introduce la longitud de la lista Y: 4\n",
            "Introduce los valores de la lista Y: 4\n",
            "Introduce los valores de la lista Y: 1\n",
            "Introduce los valores de la lista Y: 2\n",
            "Introduce los valores de la lista Y: -3\n",
            "Y = [4, 1, 2, -3]\n"
          ]
        }
      ],
      "source": [
        "Y = []\n",
        "n2 = int(input('Introduce la longitud de la lista Y: '))\n",
        "for j in range(0,n2):\n",
        "  elementos1 = int(input('Introduce los valores de la lista Y: '))\n",
        "  Y.append(elementos1)\n",
        "print(f'Y = {Y}')"
      ]
    },
    {
      "cell_type": "code",
      "execution_count": null,
      "metadata": {
        "colab": {
          "base_uri": "https://localhost:8080/"
        },
        "id": "nBtELHj26ZeL",
        "outputId": "c7c21060-9159-4707-a9e4-65b54ceac4ce"
      },
      "outputs": [
        {
          "output_type": "stream",
          "name": "stdout",
          "text": [
            "[[ 4  4]\n",
            " [ 0  1]\n",
            " [ 2  2]\n",
            " [-2 -3]]\n"
          ]
        }
      ],
      "source": [
        "1# Ahora declaramos los vectores como comparación de cada componente:\n",
        "X = np.array(X)\n",
        "Y = np.array(Y)\n",
        "vec = np.column_stack((X,Y))\n",
        "print(vec)"
      ]
    },
    {
      "cell_type": "code",
      "execution_count": null,
      "metadata": {
        "colab": {
          "base_uri": "https://localhost:8080/"
        },
        "id": "_ASiSVnr4cra",
        "outputId": "28657681-f4a8-404f-df0d-a21f824c8ec2"
      },
      "outputs": [
        {
          "output_type": "stream",
          "name": "stdout",
          "text": [
            "Introduce los valores R y/o G para colors: R\n",
            "Introduce los valores R y/o G para colors: G\n",
            "Introduce los valores R y/o G para colors: R\n",
            "Introduce los valores R y/o G para colors: R\n",
            "['R', 'G', 'R', 'R']\n"
          ]
        },
        {
          "output_type": "execute_result",
          "data": {
            "text/plain": [
              "True"
            ]
          },
          "metadata": {},
          "execution_count": 5
        }
      ],
      "source": [
        "#Luego declaramos colors como una lista vacía de la forma similar y comparamos que sea de la misma longitud que N\n",
        "colors = []\n",
        "for color in range(0,N):\n",
        "  c = input('Introduce los valores R y/o G para colors: ')\n",
        "  colors.append(c)\n",
        "print(colors)\n",
        "len(colors) == N"
      ]
    },
    {
      "cell_type": "code",
      "source": [
        "def sol(X, Y, colors):  # finalmente usamos la función sol que básicamente tomará la distancia entre el radio del círculo y el valor de la norma del punto o vector en su entrada correspondiente\n",
        "  for i in vec:\n",
        "    if np.linalg.norm(vec) <= N: # si la norma es menor le asocia la letra G o R\n",
        "      G,R = np.linalg.norm(vec)  \n",
        "    else:\n",
        "      R = np.linalg.norm(vec)   # en otro caso le asocia la letra R para mayores a N \n",
        "  return print(f'Hay {colors.count(\"R\")} puntos fuera del círculo y {colors.count(\"G\")} puntos dentro del círculo')  #finalmente imprime el conteo de los puntos dentro y fuera del círculo"
      ],
      "metadata": {
        "id": "Y3yYhLAY8De6"
      },
      "execution_count": null,
      "outputs": []
    },
    {
      "cell_type": "code",
      "source": [
        "sol(X,Y,colors) #en principio debería de imprimir 2 numeros dentro del circulo pero solo imprime uno y esto fue lo más que pude avanzar para este problema"
      ],
      "metadata": {
        "colab": {
          "base_uri": "https://localhost:8080/"
        },
        "id": "zD_Qexh5hh5M",
        "outputId": "00f2a7dd-77f9-4c37-da01-e74c0e0f80ca"
      },
      "execution_count": null,
      "outputs": [
        {
          "output_type": "stream",
          "name": "stdout",
          "text": [
            "Hay 3 puntos fuera del círculo y 1 puntos dentro del círculo\n"
          ]
        }
      ]
    },
    {
      "cell_type": "markdown",
      "metadata": {
        "id": "ksw3mQeBCHxd"
      },
      "source": [
        "## Problema 2:\n",
        "\n",
        "Demuestre que $L$ es un espacio métrico con la función $d_1(x,y)$\n",
        "\n",
        "#### Observación: creo que la función d_1(x,y) está mal redactada, pues no cumpliría que la distancia es cero si x = y siendo uno de los axiomas de espacios métricos, por lo que la igualdad de x con y deberá de valer cero en d1 y tomará valor 1 si x es distinto de y, al menos así al 25 de septiembre o que hagan una corrección posteiorment\n",
        "e.\n",
        "## Solución:\n"
      ]
    },
    {
      "cell_type": "markdown",
      "source": [
        "Sean x e y $\\in$ $L$ para mostrar que $L$ es un espacio métrico necesitamos probar que se cumplen los 3 axiomas con $d_1(x,y)$ como métrica. En efecto,tenemos lo siguiente:\n",
        "$$i)  d_1(x,y)=1$$ esto debido a la regla de correspondencia según está definido $d_1$, pero por axioma de espacio métrico, $d(x,y)=d(y,x)$ entonces:\n",
        "$$\n",
        "d_1(y,x)=1\n",
        "$$\n",
        "por lo que:\n",
        "$$\n",
        "d_1(x,y)=d_1(y,x)=1\n",
        "$$\n",
        "\n",
        "\n",
        "$$\n",
        "ii) d_1(x,y) = 0 \\Longleftrightarrow  x = y\n",
        "$$\n",
        "Según su regla de correspondencia de $d_1(x,y)$ se tiene que $d_1(x,y) = 0$ cuando $x = y$ entonces la igualdad de $ii)$ se cumple, por lo tanto:\n",
        "$$\n",
        " d_1(x,y) = 0 = d_1(y,x) \\Longleftrightarrow  x = y\n",
        "$$\n",
        "\n",
        "Finalmente, tenemos:\n",
        "$$\n",
        "iii) d_1(x,z) \\leq d_1(x,y) + d_1(y,z)\n",
        "$$\n",
        "\n",
        "Sea $z \\in L$, para mostrar la desigualdad tenemos dos casos:\n",
        "$$\n",
        "1) x = z\n",
        "$$\n",
        "Si $x = z $ tendríamos $d(x,z)=d(z,x)=0$ $\\forall x,z\\in L$, de modo que, tendríamos que, la desigualdad: \n",
        "$$\n",
        "0 \\leq d_1(x,y)+d_1(y,z)\n",
        "$$\n",
        "La cual se cumple pues por propiedades $i)$ y $ii)$ ya demostradas, $d_1(x,y)$ es como menos cero, por lo tanto:\n",
        "$$\n",
        "d_1(x,z) \\leq d_1(x,y) + d_1(y,z)\n",
        "$$\n",
        "Consideremos ahora el siguiente caso:\n",
        "$$\n",
        "2) x\\neq z\n",
        "$$\n",
        "Si $x\\neq z$ tendríamos otros 2 casos como mínimo, ya sea $x\\neq y$ o $y\\neq z$.\n",
        "\n",
        "Como $x\\neq z$ el lado izquierdo de la desigualdad tomará un valor de 1, por otro lado si $x\\neq y$ se tendría $d_1(x,y)=1$ y la desigualdad se cumpliría, incluso si $y = z$, pues tendríamos $1 = 1$ en ambos lados.\n",
        "\n",
        "Análogamente, si hacemos del lado derecho $y\\neq z$ se tendría $d_1(y,z)=1$, de modo que independientemente de tomar $x=y$ o $x\\neq y$ tendríamos bien $1 = 1$ cuando uno de las dos distancias toma valores iguales, o bien $1 < 2$ que sería el caso cuando las dos distancias toman valores distintos, cumpliéndose nuevamente la desigualdad.\n",
        "\n",
        "Así, se tiene que $L$ es una métrica a partir de $d_1(x,y)$ como se quería demostrar\n"
      ],
      "metadata": {
        "id": "gaYFl23rkAC9"
      }
    },
    {
      "cell_type": "markdown",
      "source": [
        "# Problema 3:\n",
        "Demuestre que $d(x,y)$ es una métrica y también demuestre que existe una biyección entre $R$ y $Wordspace$ concluya cuál es la cardinalidad de $Wordspace$.\n",
        "# Solución:"
      ],
      "metadata": {
        "id": "McyBQb7CkAIl"
      }
    },
    {
      "cell_type": "markdown",
      "source": [
        "Mostremos las 3 propiedades de una métrica: \n",
        "\n",
        "$i) d(x,y) = d(y,x)$ \n",
        "\n",
        "Sean $x_n$ y $y_n$ $\\in$ $Wordspace$.Sabemos que, por el problema anterior, $d_1(x,y)=d_1(y,x)$, entonces tenemos que:\n",
        "$$\n",
        "d(x,y)=\\sum d_1(x_n,y_n)\n",
        "$$\n",
        "Aplicando el inciso $i)$ del problema 2), tenemos:\n",
        "$$\n",
        "\\sum d_1(x_n,y_n)=\\sum d_1(y_n,x_n)=d(y,x)\n",
        "$$\n",
        "\n",
        "Esto último es válido, ya que la suma de métricas es una métrica, así tenemos que:\n",
        "$$\n",
        "d(x,y)=d(y,x)\n",
        "$$\n",
        "\n",
        "$ii) d(x,y) = 0 \\Longleftrightarrow x = y$\n",
        "\n",
        "Nuevamente, usaremos el inciso $ii)$ del problema 2), en este caso tenemos que, según la definición de $d_1(x,y)$ esta valía cero cuando $x = y$, de forma que:\n",
        "\n",
        "$$\n",
        "d(x,x)=\\sum d_1(x_n,x_n)=\\sum 0 = 0\n",
        "$$\n",
        "Por lo tanto, tenemos que cuando $x = y$ se cumple:\n",
        "\n",
        "$$\n",
        "d(x,x)=\\sum d_1(x_n,x_n)=\\sum d_1(y_n,y_n)=0=d(y,y)\n",
        "$$\n",
        "\n",
        "$iii) d(x,z)\\leq d(x,y)+d(y,z) $\n",
        "\n",
        "Sea $z_n \\in Wordspace$, tenemos entonces que considerar los siguientes casos:\n",
        "\n",
        "1) $d(x,y)$ es infinito y $d(y,z)$ es infinito. Se tendría entonces que conforme aumentamos la cadena tendiendo a infinito la distancia entre cada una de esas cadenas tendería a cero, de forma que o bien  $d(y,z)=0$ o $d(x,y)=0$ por lo que, se tendría que $d(x,z)\\leq d(y,z)$ o $d(x,z)\\leq d(x,y)$ cumpliéndose la desigualdad .\n",
        "\n",
        "\n",
        "2) $d(x,y)$ es finito y $d(z,y)$ es infinito, en este caso, sabemos que $d(x,y)$ tomaría un valor distinto de cero pues es finita, mientras que por el caso anterior $d(z,y)$ tendería a un valor cero cuando la cadena tiende a infinito, por lo que tendríamos:\n",
        "\n",
        "$$\n",
        "d(x,z) \\leq d(x,y)\n",
        "$$\n",
        "\n",
        "De donde, si $z=y$ la igualdad se cumpliría pues $d(x,y)=d(x,y)$, mientras que si $z\\neq y$ se tendría la la desigualdad únicamente.\n",
        "\n",
        "3)$d(x,y)$ es infinito y $d(z,y)$ es finito, es similar al anterior, donde )$d(x,y)$ tendería a cero conforme la cadena tiende a infinito, la distancia tendería a cero, dejándonos únicamente con:\n",
        "$$\n",
        "d(x,z) \\leq d(z,y)\n",
        "$$\n",
        "de donde si $z= y$ tendríamos la igualdad pues $d(x,y)=d(y,y)=0$  por definición de $d(x,y)$ en términos de $d_1(x,y)$ por otra parte si $z\\neq y$, se cumpliría la deigualdad al igual que el caso anterior.\n",
        "\n",
        "4) Tanto $d(x,y)$ es finito como $d(z,y)$ es finito.\n",
        "\n",
        "En este último caso, tendríamos dos valores de distancia finito,cada distancia definida en términos de $d_1(x,y)$ la cual es finita, de modo que se cumple la propiedad $iii)$ del problema 2), por lo que como $d(x,y)$ y $d(y,z)$ son finitas, también cumplirán la desigualdad del triángulo al sumarse entre sí, esto es:\n",
        "$$\n",
        "d(x,y)+d(y,z)\\gneq d(x,z)\n",
        "$$\n",
        "Por lo tanto, en estos 4 casos, tendríamos finalmente mostrada la propiedad $iii)$, es decir:\n",
        "\n",
        "$$\n",
        "d(x,z)\\leq d(x,y)+d(y,z)\n",
        "$$\n",
        "\n",
        "Y por lo tanto $d(x,y)$ es una métrica.\n",
        "\n",
        "\n",
        "Para mostrar que hay una biyección entre $R$ y $Wordspace$ podemos argumentar que $\\forall x \\in Wordspace$ se tiene que $$f(x)\\to d(x,y) $$ con esa regla de correspondencia, toma prácticamente cualquier valor ya que, $$d(x,y)\\to 0$$ cuando $$(x,y)\\to\\infty$$ , del mismo modo, se tiene que $$d(x,y)<\\infty$$ al tener los números del 0 al 9 se puede crear cualquier cadena de prácticamente cualquier longitud única, del mismo modo, es posible crear una cadena de caracteres de cualquier longitud única, de forma que, $$\\forall x\\in D_{Wordspace}, D_{Wordspace}=R$$ \n",
        "\n",
        "El dominio del conjunto será $R$.\n",
        "\n",
        "Por otra parte, la relación entre $R$ y $Wordspace$ es sobreyectiva pues para cada sucesión $$x_n \\in L×L×⋅⋅⋅$$ se tendrá que $$∃ ! x_n\\in L$$ tal que: $$ {x_n}\\to x$$ con $$x \\in R$$ esto pues, al considerar cualquier cadena, esta tendrá un valor de longitud bien definido, por lo que $Wordspace$ en cuanto a valores toma los mismos que el de $R$, haciendo una relación sobreyectiva. \n",
        "\n",
        "Por lo tanto, la relación entre $R$ y $Wordspace$ es inyectiva y sobreyectiva y por lo tanto es biyectiva.\n",
        "\n",
        "La cardinalidad de $Wordspace$ al tener una biyección con $R$ será la misma que la de $R$ esto pues, existe una propiedad tal que para funciones $$f:A\\to B$$ con $f$ biyectiva, se cumple $$card(A) = card(B)$$, entonces se tendría que:\n",
        "$$card(Wordspace)=card(R)$$. En este caso sería la cardinalidad del continuo, esto tiene sentido pues, dependiendo de qué tan larga o pequeña sea la longitud de la cadena que vive en $Wordspace$, esta puede tomar un valor distinto, el valor en este caso sería $$2^{N_0}$$\n",
        "\n",
        "Del mismo modo, no puede ser la cardinalidad de los naturales $N$ puesto que, por el Argumento de la diagonal de Cantor, se tendría de hecho, que $Wordspace$ es un conjunto no numerable, \n"
      ],
      "metadata": {
        "id": "bW7WawqpzSIS"
      }
    }
  ],
  "metadata": {
    "colab": {
      "provenance": [],
      "include_colab_link": true
    },
    "kernelspec": {
      "display_name": "Python 3",
      "name": "python3"
    },
    "language_info": {
      "name": "python"
    }
  },
  "nbformat": 4,
  "nbformat_minor": 0
}